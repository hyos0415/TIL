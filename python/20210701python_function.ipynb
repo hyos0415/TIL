{
 "cells": [
  {
   "cell_type": "code",
   "execution_count": null,
   "id": "e574b445",
   "metadata": {},
   "outputs": [],
   "source": [
    "#python built-in data type\n",
    "\n",
    "#Numeric\n",
    "  #int\n",
    "  #float\n",
    "  #complex\n",
    "\n",
    "#Sequence\n",
    "  #list\n",
    "  #tuple\n",
    "  #range\n",
    "    \n",
    "#Text Sequence\n",
    "  #str\n",
    "    \n",
    "#Mapping\n",
    "  #dict\n",
    "    \n",
    "#Set\n",
    "  #set\n",
    "    \n",
    "#Bool\n",
    "  #bool (True, False)"
   ]
  },
  {
   "cell_type": "code",
   "execution_count": 2,
   "id": "2146f9db",
   "metadata": {
    "scrolled": true
   },
   "outputs": [
    {
     "name": "stdout",
     "output_type": "stream",
     "text": [
      "It's being a long day\n"
     ]
    }
   ],
   "source": [
    "#python control statement\n",
    "#if ,for, while\n",
    "\n",
    "#논리식을 기준으로\n",
    "#들여쓰기로 블럭 구분"
   ]
  },
  {
   "cell_type": "code",
   "execution_count": 9,
   "id": "548ae5b9",
   "metadata": {
    "scrolled": false
   },
   "outputs": [
    {
     "name": "stdout",
     "output_type": "stream",
     "text": [
      "name : curry, backnumber : 30\n",
      "name : paul, backnumber : 3\n",
      "name : george, backnumber : 13\n",
      "[2, 4, 6, 8, 10, 12, 14, 16, 18]\n",
      "[4, 8, 12, 16]\n"
     ]
    }
   ],
   "source": [
    "#for문은 크게 2가지 형태\n",
    "#range와 사용 for ~~in range\n",
    "#for ~~in list, tuple, dict\n",
    "\n",
    "a = {'curry' : 30, 'paul' : 3, \"george\" : 13}\n",
    "\n",
    "for aaa in a:\n",
    "    print('name : {}, backnumber : {}'.format(aaa,a[aaa]))\n",
    "    \n",
    "#list comprehension\n",
    "#list를 만들 때 제어문을 사용해서 간결한 코드를 만들 수 있음\n",
    "#data 처리 속도가 중요함\n",
    "#빅데이터에서는 데이터량이 많기에!\n",
    "\n",
    "mylist= [1,2,3,4,5,6,7,8,9]\n",
    "\n",
    "#위의 리스트에서 각각 요소에 2배 해서 새로운 list\n",
    "#list comprehesion 예제\n",
    "\n",
    "mylist_1 = [tmp *2 for tmp in mylist]\n",
    "\n",
    "print(mylist_1)\n",
    "\n",
    "#위의 리스트에서 짝수 요소에 2배 해서 새로운 list\n",
    "\n",
    "mylist_2 = [tmp *2 for tmp in mylist if tmp % 2 ==0]\n",
    "print(mylist_2)"
   ]
  },
  {
   "cell_type": "code",
   "execution_count": 35,
   "id": "14d30551",
   "metadata": {},
   "outputs": [
    {
     "name": "stdout",
     "output_type": "stream",
     "text": [
      "메롱\n"
     ]
    }
   ],
   "source": [
    "#while문 특정 조건에 해당하는 경우\n",
    "#for문은 횟수를 아는 경우\n",
    "\n",
    "#break : 가장 인접한 루프를 탈출하는 keyword\n",
    "\n",
    "# pass : 반복문에서 아무것도 안 하고 싶을 때 \n",
    "\n",
    "for i in range(3):\n",
    "    pass\n",
    "\n",
    "while True:\n",
    "    print(\"메롱\")\n",
    "    break"
   ]
  },
  {
   "cell_type": "code",
   "execution_count": null,
   "id": "280d6e92",
   "metadata": {},
   "outputs": [],
   "source": [
    "#함수(function), 객체지향(Object-Oriened)\n",
    "#함수 : 특정 역할을 수행하는 코드 집합을 하나의 단위로 묶어둠\n",
    "\n",
    "# 함수를 사용하기 위해서 호출 (call)\n",
    "# 함수 호출 하면 원본을 바꾸는 경우\n",
    "# 원본은 변화하지 않고 함수가 적용된 결과가 리턴값이 나오는 경우\n",
    "#.append(인자) 함수에 값을 전달\n",
    "\n",
    "#################\n",
    "\n",
    "# 과거에는 함수 기반의 언어가 많았음. 대표 C\n",
    "# 내가 구현해야하는 내용을 기능으로 세분화\n",
    "# 예시 은행프로그램\n",
    "\n",
    "# 절차지향 방식, 탑 다운 방식, 구조적 프로그램, 디바이드앤컨쿼\n",
    "# - 예금기능\n",
    "    #-무통장입금\n",
    "    #-자행이제\n",
    "    #  -일반 이체 -> 함수 형태 코드 구현\n",
    "#장점: 문제 분석, 설계가 비교적 간단\n",
    "#     > 프로그램 작성 기간이 짧아진다.\n",
    "#     > 인력, 돈이 작게 듬\n",
    "\n",
    "#단점: 프로그램의 유지 보수가 힘듬\n",
    "#     >인터넷의 보급으로 프로그램의 유지보수가 많이 필요\n",
    "#      함수 하나 바꾸는데 크게 문제가 됨\n",
    "\n",
    "# 객체지향으로 넘어가게 됨"
   ]
  },
  {
   "cell_type": "code",
   "execution_count": 15,
   "id": "96fc955f",
   "metadata": {},
   "outputs": [
    {
     "name": "stdout",
     "output_type": "stream",
     "text": [
      "입력받은 값은 (30, 40, 4, 121) 입니다.\n",
      "195\n"
     ]
    }
   ],
   "source": [
    "# python의 함수적 특징\n",
    "\n",
    "# python의 함수는 크게 2가지 분류가 있음\n",
    "# 내장함수 ex) len() print()...\n",
    "# 사용자 정의 함수 (user define function)\n",
    "\n",
    "# 사용자 정의 함수\n",
    "# 함수를 정의할 때 사용하는 키워드 : def\n",
    "# 함수명을 지을 때 가독성, 숫자로 시작하면 안됨, 대문자로 시작하지 않음\n",
    "# 여러개의 단어 나열 시 _로 연결 name_student\n",
    "#\n",
    "\n",
    "\n",
    "# 비슷한 형태의 함수를 쓰고 싶은 데 인자 수가 다르면 문제가 있음\n",
    "# 즉 확장성이 없음\n",
    "\n",
    "def my_sum(*a):     # *는 tuple 형태로 입력데이터를 받음\n",
    "    print('입력받은 값은 {} 입니다.'.format(a))\n",
    "    result = 0\n",
    "    for tmp in a:\n",
    "        result += tmp\n",
    "    return result\n",
    "\n",
    "my_result = my_sum(30,40,4,121)\n",
    "print(my_result)\n"
   ]
  },
  {
   "cell_type": "code",
   "execution_count": null,
   "id": "a2c7ea1d",
   "metadata": {},
   "outputs": [],
   "source": [
    "#메모리 공간 \\\n",
    "# a = 100 (int class) 클래스로부터 파생된 객체는 모두 메모리를 차지\n",
    "#함수를 정의하게 되면 함수 자체가 변수처럼 메모리 내에 저장되고 메모리 주소\n",
    "#메모리 내에서는 \n",
    "#함수를 변수처럼 사용할 수 있음\n",
    "#변수는 다른 함수의 인자로 사용할 수 있음\n",
    "#함수는 함수를 다른 함수의 인자로도 사용할 수 있음"
   ]
  },
  {
   "cell_type": "code",
   "execution_count": 36,
   "id": "621f4f43",
   "metadata": {
    "scrolled": true
   },
   "outputs": [
    {
     "name": "stdout",
     "output_type": "stream",
     "text": [
      "140551224723408\n",
      "140551223677648\n",
      "<function my_sum at 0x7fd4a29d6560>\n"
     ]
    }
   ],
   "source": [
    "a = [1,2,3]\n",
    "# a의 변수가 가지고 있는 주소값을 알고 싶다...\n",
    "# reference 값을 알고 싶음 id() 함수\n",
    "print(id(a))\n",
    "b = [1,2,3]\n",
    "print (id(b))\n",
    "# 숫자는 워낙 많이 사용되서 아마도 256까지는 객체를 1개만 사용해서 공유해서 사용\n",
    "\n",
    "def my_sum(*a):     # *는 tuple 형태로 입력데이터를 받음\n",
    "    print('입력받은 값은 {} 입니다.'.format(a))\n",
    "    result = 0\n",
    "    for tmp in a:\n",
    "        result += tmp\n",
    "    return result\n",
    "\n",
    "def my_test(nono):\n",
    "    nono(10,20)\n",
    "    \n",
    "print(my_sum)\n"
   ]
  },
  {
   "cell_type": "code",
   "execution_count": 37,
   "id": "b6ed5ff1",
   "metadata": {
    "scrolled": true
   },
   "outputs": [
    {
     "name": "stdout",
     "output_type": "stream",
     "text": [
      "7 12\n"
     ]
    }
   ],
   "source": [
    "# python의 함수는 여러개 return 하는 거 같아 보임\n",
    "# tuple 1 개를 return 하는 거임\n",
    "\n",
    "def my_program(a,b):\n",
    "    result1 = a+b\n",
    "    result2 = a*b\n",
    "    return result1, result2\n",
    "\n",
    "a,b = my_program(3,4)\n",
    "print(a,b)"
   ]
  },
  {
   "cell_type": "code",
   "execution_count": null,
   "id": "e170496e",
   "metadata": {},
   "outputs": [],
   "source": [
    "# python의 함수는 default parameter를 사용할 수 있음\n",
    "# default parameter는 맨 끝에만 올 수 있음\n",
    "# 그러는 경우 입력 인자를 생략할 수 있음\n",
    "\n",
    "def my_sum(a,b,c=True)"
   ]
  },
  {
   "cell_type": "code",
   "execution_count": 29,
   "id": "a76b85be",
   "metadata": {
    "scrolled": true
   },
   "outputs": [
    {
     "name": "stdout",
     "output_type": "stream",
     "text": [
      "현재 data_x : 10, data_list : [1, 2, 3]\n",
      "현재 data_x : 10, data_list : [1, 2, 3, 100]\n"
     ]
    }
   ],
   "source": [
    "# python 함수는 입력인자에 대해 mutable(가변), immutable(불변)이 있음\n",
    "#call-by-value, call-by-reference\n",
    "# 숫자, 문자열, tuple > immutable\n",
    "# list, dict > mutable \n",
    "# 스택에 값이 할당이 되는데\n",
    "# mutable은 값을 복사해오고, immutable은 주소를 가져옴\n",
    "# 스택의 특성상 함수가 종료되면 해당함수에 할당된 영역을 메모리에서 삭제\n",
    "def my_func(tmp_num, tmp_list):\n",
    "    tmp_num += 10\n",
    "    tmp_list.append(100)\n",
    "    \n",
    "data_x = 10\n",
    "data_list = [1,2,3]\n",
    "\n",
    "print(\"현재 data_x : {}, data_list : {}\".format(data_x,data_list))\n",
    "my_func(data_x,data_list)\n",
    "print(\"현재 data_x(immutable) : {}, data_list(mutable) : {}\".format(data_x,data_list))"
   ]
  },
  {
   "cell_type": "code",
   "execution_count": 39,
   "id": "14c1445b",
   "metadata": {
    "scrolled": true
   },
   "outputs": [
    {
     "name": "stdout",
     "output_type": "stream",
     "text": [
      "200\n"
     ]
    }
   ],
   "source": [
    "# Local vairiable /// Global variable\n",
    "# 지역변수는 휘발성이다!!!\n",
    "# 전역변수는 코드가 지저분해지므로 잘 사용하지 않는 편\n",
    "# 전역변수는 스파게티 코드를 만드는 원인\n",
    "\n",
    "tmp = 100 #전역변수 (global variable)\n",
    "\n",
    "def my_func(x):\n",
    "    global tmp\n",
    "    tmp += x #지역변수 (local variable)\n",
    "    return tmp\n",
    "\n",
    "print(my_func(100))"
   ]
  },
  {
   "cell_type": "code",
   "execution_count": 34,
   "id": "1a269068",
   "metadata": {},
   "outputs": [
    {
     "name": "stdout",
     "output_type": "stream",
     "text": [
      "3\n"
     ]
    }
   ],
   "source": [
    "#python 내장합수\n",
    "\n",
    "#type()\n",
    "#id()\n",
    "#print()\n",
    "#len()\n",
    "\n",
    "a = 3.56\n",
    "print(int(a))\n",
    "\n",
    "#class initializer \n",
    "#int() float() list() tuple()...\n",
    "# enumerate()[열거형]를 만들면 list 사용과 살짝 다르게 사용가능???\n",
    "\n",
    "#sort > 해당 객체를 직접 정렬 [method]\n",
    "#sorted > 결과를 정렬해서 return 값을 돌려줌"
   ]
  }
 ],
 "metadata": {
  "kernelspec": {
   "display_name": "Python [conda env:data_env] *",
   "language": "python",
   "name": "conda-env-data_env-py"
  },
  "language_info": {
   "codemirror_mode": {
    "name": "ipython",
    "version": 3
   },
   "file_extension": ".py",
   "mimetype": "text/x-python",
   "name": "python",
   "nbconvert_exporter": "python",
   "pygments_lexer": "ipython3",
   "version": "3.7.10"
  }
 },
 "nbformat": 4,
 "nbformat_minor": 5
}
