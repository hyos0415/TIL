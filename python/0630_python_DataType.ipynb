{
 "cells": [
  {
   "cell_type": "code",
   "execution_count": 16,
   "id": "15fbfe63",
   "metadata": {},
   "outputs": [
    {
     "name": "stdout",
     "output_type": "stream",
     "text": [
      "4\n",
      "5\n",
      "[1]\n",
      "[1, 2]\n",
      "[1, 2, 3, 4, 5, 6]\n",
      "[1, 2, 3, 1, 2, 3, 1, 2, 3]\n",
      "1Hello\n",
      "None\n",
      "[1, 2, 3, [4, 5, 6]]\n",
      "[1, 2, 3, 4, 5, 6]\n",
      "[1, 2, 3, 4, 7, 8, 10]\n",
      "[10, 8, 7, 4, 3, 2, 1]\n"
     ]
    }
   ],
   "source": [
    "# python의 Sequence Data Type\n",
    "\n",
    "# list\n",
    "\n",
    "a = list()  # empty list를 생성하는 가장 일반적인 형태\n",
    "a = []      # literal 표현은 대괄호( [] )\n",
    "a = [1, 2, 3]  # ','를 기준으로 요소들을 나열   \n",
    "a = [1, 3.14, 'Hello']\n",
    "a = [1, 2, ['Hello', 4], 5, True]  # 중첩리스트를 허용\n",
    "\n",
    "# indexing : 숫자 index는 시작이 0부터 시작\n",
    "print(a[2][1]) # 4\n",
    "print(a[-2])   # 5\n",
    "\n",
    "# slicing : 슬라이싱을 한 결과는 원본과 같은 데이터 타입\n",
    "print(a[0:1])  # [1]\n",
    "print(a[:2])   # [1, 2]\n",
    "\n",
    "# 기본 연산\n",
    "a = [1, 2, 3]\n",
    "b = [4, 5, 6]\n",
    "\n",
    "result = a + b  # 연산자 overloading ( 연결의 의미로 변해요 )\n",
    "print(result)   # [1, 2, 3, 4, 5, 6]\n",
    "\n",
    "result = a * 3  # a + a + a\n",
    "print(result)   # [1, 2, 3, 1, 2, 3, 1, 2, 3]\n",
    "\n",
    "a = [1, 2, 3]\n",
    "\n",
    "# print(a[0] + 'Hello')   # 1 + 'Hello' => '1' + 'Hello' => '1Hello'\n",
    "# 자동형변환이 일어나지 않아요!\n",
    "print(str(a[0]) + 'Hello')  # 1Hello\n",
    "                \n",
    "a = [1, 2, 3]\n",
    "# a.append(4)  # append()는 리스트 마지막에 요소를 추가하는 함수\n",
    "#              # 함수는 2가지 형태로 사용이 되는데\n",
    "#              # 원본이 바뀌는 경우가 있고 결과값이 리턴되는 경우가 있어요!\n",
    "# print(a)     # [1, 2, 3, 4]    \n",
    "\n",
    "result = a.append(4)\n",
    "print(result)  # None\n",
    "\n",
    "a = [1, 2, 3]\n",
    "a.append([4, 5, 6])  # [1, 2, 3, [4, 5, 6]]\n",
    "print(a)\n",
    "\n",
    "a = [1, 2, 3]\n",
    "a.extend([4, 5, 6])  # [1, 2, 3, 4, 5, 6] \n",
    "print(a)            \n",
    "\n",
    "a = [3, 7, 10, 1, 2, 8, 4]\n",
    "a.sort()   # 맞는 형태\n",
    "result = a.sort() # 의미없는 형태\n",
    "print(a)   # [1, 2, 3, 4, 7, 8, 10]\n",
    "a.reverse()\n",
    "print(a)   # [10, 8, 7, 4, 3, 2, 1]"
   ]
  },
  {
   "cell_type": "code",
   "execution_count": 27,
   "id": "21941dbd",
   "metadata": {},
   "outputs": [
    {
     "name": "stdout",
     "output_type": "stream",
     "text": [
      "<class 'tuple'>\n",
      "<class 'tuple'>\n",
      "2\n",
      "(1, 2, 3, 4, 5, 6)\n",
      "(1, 2, 3)\n",
      "[4, 5, 6]\n"
     ]
    }
   ],
   "source": [
    "# python의 Sequence data type\n",
    "\n",
    "# tuple\n",
    "\n",
    "# list와 상당히 유사\n",
    "# 여러가지 데이터를 순차적으로 저장하는 집합 자료형\n",
    "# tuple은 read only\n",
    "a = tuple()\n",
    "# list는 대괄호 [], tuple은 소괄호 ()\n",
    "a = ()  # 요소가 없는 tuple\n",
    "a = (1, 2, 3) \n",
    "# 원래 소괄호는 (1 + 3) * 4\n",
    "a = (1,)   # 요소가 1개인 tuple   \n",
    "print(type(a))  # <class 'tuple'>\n",
    "\n",
    "a = 1, 2, 3   # tuple은 ()를 생략할 수 있어요!\n",
    "print(type(a)) # <class 'tuple'>\n",
    "\n",
    "a = (1, 2, (3, 4), [5, 6], 7)\n",
    "# indexing, slicing 다 되요!\n",
    "\n",
    "print(a[1])  # 2\n",
    "# a[1] = 3     # 허용하지 않아요!!\n",
    "a[3][0] = 100  # 가능\n",
    "# a[3] = 100     # 안되요!! tuple의 요소는 변경이 불가능해요!\\\n",
    "\n",
    "a = (1, 2, 3)\n",
    "b = 4, 5, 6\n",
    "\n",
    "print(a + b)\n",
    "\n",
    "a = [1, 2, 3]\n",
    "b = tuple(a)\n",
    "print(b)   # (1, 2, 3)\n",
    "\n",
    "a = (4, 5, 6)\n",
    "result = list(a)\n",
    "print(result)  # [4, 5, 6]"
   ]
  },
  {
   "cell_type": "code",
   "execution_count": 34,
   "id": "0e7357e3",
   "metadata": {},
   "outputs": [
    {
     "name": "stdout",
     "output_type": "stream",
     "text": [
      "range(1, 10)\n",
      "range(0, 10)\n",
      "1\n",
      "range(0, 3)\n",
      "13\n",
      "True\n",
      "19\n"
     ]
    }
   ],
   "source": [
    "# Sequence Data Type\n",
    "\n",
    "# range\n",
    "a = range(1,10,1)  # 1부터 9까지 1씩 증가하는 range\n",
    "                   # [1,2,3,4,5,6,7,8,9]  => 메모리 공간을 요소들이 하나하나 차지\n",
    "print(a)    \n",
    "\n",
    "a = range(10)   # 초기값과 증감이 빠진 경우(초기값은 0, 증감은 1)\n",
    "print(a)\n",
    "print(a[1])     # 1\n",
    "print(a[:3])    # range(0, 3)\n",
    "\n",
    "a = range(3,100, 10) \n",
    "print(a[1])     # 13\n",
    "\n",
    "# 추가적인 연산자로 in 이 있어요!\n",
    "# 특정 요소가 연속형 자료형 안에 포함이 되는지 되지 않는지를 판별\n",
    "print(7 in range(10))   # True\n",
    "print(range(1,20,3)[-1]) # 19"
   ]
  },
  {
   "cell_type": "code",
   "execution_count": 47,
   "id": "a636ecbb",
   "metadata": {
    "scrolled": true
   },
   "outputs": [
    {
     "name": "stdout",
     "output_type": "stream",
     "text": [
      "Helloworld\n",
      "i\n",
      "<class 'str'>\n",
      "is i\n",
      "THIS IS A SAMPLE TEXT\n",
      "This is a Sample Text\n",
      "철수는 사과를 10개 가지고 있고 영희는 바나나를 8개 가지고 있어요\n",
      "포도를 100송이 주세요!\n",
      "8\n",
      "3\n",
      "['this', 'is', 'a', 'sample', 'text']\n",
      "['a', 'b', 'c', 'd', 'e']\n"
     ]
    }
   ],
   "source": [
    "# python - Text Sequence Data Type\n",
    "# 우리가 흔희 문자열 이라고 부르는 것들을 Text Sequence Data Type\n",
    "# 사용하는 class는 str class를 이용\n",
    "\n",
    "# 다른 언어는(Java와 C++) 문자와 문자열을 구분\n",
    "#                        'a', \"a\"\n",
    "#                        'ab'(X) \"ab\"(O)\n",
    "# python은 구분하지 않아요. => 문자라는 개념이 없어요. 모두 다 싹 다 문자열\n",
    "#                            표현할때는 '', \"\" 둘 다 사용이 가능\n",
    "\n",
    "# 'Hello' , \"Hello\"\n",
    "# list안에 각 요소가 문자로 구성된 거.\n",
    "\n",
    "# 문자열  handling은 잘 해야 해요!!\n",
    "a = 'Hello'\n",
    "b = 'world'\n",
    "print(a + b)  # Helloworld\n",
    "\n",
    "a = 'This is a Sample Text'\n",
    "print(a[5])  # i\n",
    "print(type(a))  # <class 'str'>\n",
    "print(a[2:6]) # 'is i'\n",
    "\n",
    "# 문자열은 문자열을 제어하기 위한 정말 많은 함수를 제공\n",
    "print(a.upper())  # THIS IS A SAMPLE TEXT\n",
    "print(a)          # This is a Sample Text\n",
    "\n",
    "apple = 10\n",
    "banana = 8\n",
    "\n",
    "text = '철수는 사과를 {}개 가지고 있고 영희는 바나나를 {}개 가지고 있어요'\n",
    "print(text.format(apple, banana))\n",
    "# 철수는 사과를 5개 가지고 있고 영희는 바나나를 7개 가지고 있어요\n",
    "\n",
    "print('포도를 {}송이 주세요!'.format(100))  # 포도를 100송이 주세요!\n",
    "\n",
    "\n",
    "a = 'cocacola'\n",
    "\n",
    "print(len(a))  # 8\n",
    "print(a.index('a'))   # 3\n",
    "\n",
    "a = 'this is a sample text'\n",
    "result = a.split()  # 문자열을 공백으로 분할해서 각각 리스트에 넣어서 리턴\n",
    "print(result)   # ['this', 'is', 'a', 'sample', 'text']\n",
    "\n",
    "a = 'a,b,c,d,e'\n",
    "result = a.split(',')  # 문자열을 특정기준으로 분할해서 각각 리스트에 넣어서 리턴\n",
    "print(result)   # ['a', 'b', 'c', 'd', 'e']\n"
   ]
  },
  {
   "cell_type": "code",
   "execution_count": 61,
   "id": "62a4acbf",
   "metadata": {},
   "outputs": [
    {
     "name": "stdout",
     "output_type": "stream",
     "text": [
      "<class 'dict'>\n",
      "30\n",
      "50\n",
      "{'name': '홍길동', '주소': '서울', '나이': 50, '취미': '기타'}\n",
      "{'name': '홍길동', '주소': '서울', '나이': 30}\n",
      "dict_keys(['name', '주소', '나이'])\n",
      "dict_values(['홍길동', '서울', 30])\n",
      "dict_items([('name', '홍길동'), ('주소', '서울'), ('나이', 30)])\n"
     ]
    }
   ],
   "source": [
    "# python data type - Mapping data type\n",
    "# 사용되는 클래스 - dict class\n",
    "\n",
    "# dictionary는 key와 value의 쌍으로 데이터를 저장\n",
    "#              데이터 저장에 대한 순서가 존재하지 않아요!\n",
    "# 어떻게 표현하나요?\n",
    "# 중괄호를 이용해요 : {}\n",
    "a = { 'name' : '홍길동', '주소' : '서울', '나이' : 30 }\n",
    "print(type(a))  # <class 'dict'>\n",
    "\n",
    "print(a['나이'])  # 30\n",
    "a['나이'] = 50\n",
    "print(a['나이'])  # 50\n",
    "\n",
    "a['취미'] = '기타'\n",
    "print(a)   # {'name': '홍길동', '주소': '서울', '나이': 50, '취미': '기타'}\n",
    "\n",
    "a = { 'name' : '홍길동', '주소' : '서울', '나이' : 30 }\n",
    "print(a)\n",
    "\n",
    "# 키값은 반드시 수정이 안되는 값으로 사용되어야 해요!\n",
    "# 키값에 list는 사용할 수 없어요! tuple은 키값으로 사용할 수 있어요\n",
    "# 일반적으로 문자열을 키값으로 이용합니다.\n",
    "\n",
    "a = { (10,20) : 'Hello' }\n",
    "# ===============\n",
    "\n",
    "# dictionary와 관련된 함수 3개\n",
    "# keys()\n",
    "a = { 'name' : '홍길동', '주소' : '서울', '나이' : 30 }\n",
    "print(a.keys())   # dict_keys(['name', '주소', '나이'])\n",
    "                  # ['name', '주소', '나이']\n",
    "print(a.values()) # dict_values(['홍길동', '서울', 30])\n",
    "print(a.items())  # dict_items([('name', '홍길동'), ('주소', '서울'), ('나이', 30)])\n"
   ]
  },
  {
   "cell_type": "code",
   "execution_count": 67,
   "id": "37ba8ac7",
   "metadata": {},
   "outputs": [
    {
     "name": "stdout",
     "output_type": "stream",
     "text": [
      "<class 'set'>\n",
      "{1, 2, 3, 5}\n",
      "{1, 3, 4, 5, 6, 8}\n",
      "{3, 4}\n",
      "{8, 1}\n"
     ]
    }
   ],
   "source": [
    "# python data type - Set Type\n",
    "# 사용되는 class : set\n",
    "\n",
    "# 주머니처럼 생각하면 되요!\n",
    "# key와 value의 개념이 없어요. 데이터(value)만 저장\n",
    "# 순서가 없어요. 중복해서 저장이 안되요!\n",
    "# 어떻게 생겼나요 : {}\n",
    "a = {1, 2, 3}\n",
    "print(type(a))   # <class 'set'>\n",
    "\n",
    "a = [1, 2, 1, 2, 3, 3, 5]\n",
    "result = set(a)\n",
    "print(result)   # {1, 2, 3, 5}\n",
    "\n",
    "# set의 연산\n",
    "# 집합연산(합집합, 교집합, 차집합)\n",
    "a = set([1,8,3,4])\n",
    "b = set([3,4,5,6])\n",
    "\n",
    "print(a | b)   # {1, 2, 3, 4, 5, 6}  합집합(union)\n",
    "print(a & b)   # {3, 4}  교집합(intersection)\n",
    "print(a - b)   # {1, 2}  차집합(difference)"
   ]
  },
  {
   "cell_type": "code",
   "execution_count": 71,
   "id": "6dd8d6c4",
   "metadata": {},
   "outputs": [
    {
     "name": "stdout",
     "output_type": "stream",
     "text": [
      "True\n",
      "False\n",
      "True\n",
      "False\n"
     ]
    }
   ],
   "source": [
    "# python data type - Bool Type\n",
    "# True, False\n",
    "# 연산자는 and, or, not\n",
    "a = True\n",
    "b = False\n",
    "print(a)\n",
    "print(a and b)   # and 연산은 피 연산자 2개가 둘 다 True 인 경우만 결과값이 True\n",
    "print(a or b)   # and 연산은 피 연산자 2개가 둘 다 False 인 경우만 결과값이 False\n",
    "print(not a)\n",
    "\n",
    "# 다음의 경우는 False로 간주\n",
    "# 빈 문자열( '', \"\" )은 논리값으로 False로 간주\n",
    "# 빈 리스트( [] )는 논리값으로 False 간주\n",
    "# 빈 tuple( () )는 논리값으로 False 간주\n",
    "# 빈 dictionary( {} )는 논리값으로 False 간주\n",
    "# 숫자 0은 False간주 (0 이외의 다른 숫자는 True)\n",
    "# None도 False로 간주\n",
    "\n",
    "###########################"
   ]
  },
  {
   "cell_type": "code",
   "execution_count": 79,
   "id": "ad20a330",
   "metadata": {},
   "outputs": [
    {
     "name": "stdout",
     "output_type": "stream",
     "text": [
      "100\n",
      "Hello\n",
      "Hello World\n"
     ]
    }
   ],
   "source": [
    "## python의 built-in data type\n",
    "\n",
    "## 날짜연산에 사용되는 data class는 나중에 나올때 다시 소개\n",
    "## 출력할때 print()\n",
    "## print()는 인자로 들어오는 데이터를 문자열로 변환해서 출력하는 함수\n",
    "\n",
    "a = 100\n",
    "print(a)    # 기본적인 print함수는 출력후 line feed(한줄을 띄어요)해요!\n",
    "print('Hello')\n",
    "\n",
    "print('Hello', end=' ')\n",
    "print('World')"
   ]
  },
  {
   "cell_type": "code",
   "execution_count": 85,
   "id": "95239e02",
   "metadata": {},
   "outputs": [
    {
     "name": "stdout",
     "output_type": "stream",
     "text": [
      "a는 30보다 커요!\n"
     ]
    }
   ],
   "source": [
    "## python의 control statement (제어문)\n",
    "## block을 표현하기 위해서 {}를 사용하지 않아요!\n",
    "## 대신 indentation(들여쓰기-space기준 4칸)을 이용해요\n",
    "\n",
    "# 조건문과 반복문\n",
    "\n",
    "# 조건문의 형태\n",
    "\n",
    "a = 40\n",
    "\n",
    "# if a > 50:\n",
    "#     print('a는 50보다 커요!')\n",
    "#     print('호호호')\n",
    "# else:\n",
    "#     print('a는 50보다 작아요!')\n",
    "#     print('하하하')\n",
    "\n",
    "if a > 50:\n",
    "    print('a는 50보다 커요!')\n",
    "elif a > 30:\n",
    "    print('a는 30보다 커요!')\n",
    "else:\n",
    "    print('a는 30보다 작아요!')"
   ]
  },
  {
   "cell_type": "code",
   "execution_count": null,
   "id": "2eab2408",
   "metadata": {},
   "outputs": [],
   "source": [
    "## 문제 1.\n",
    "## 10보다 작은 자연수 중에서 3 또는 5의 배수는\n",
    "## 3,5,6,9가 존재해요! 이것들의 합은 23입니다.\n",
    "\n",
    "## 1000보다 작은 자연수 중에서 3 또는 5의 배수들을\n",
    "## 구해서 모두 합하면 얼마인가요?\n",
    "\n",
    "sum = 0\n",
    "for i in range(1000):\n",
    "    if i%3 == 0 or i%5 ==0:\n",
    "        sum += i\n",
    "print(sum)"
   ]
  },
  {
   "cell_type": "code",
   "execution_count": null,
   "id": "a8dd3b8b",
   "metadata": {},
   "outputs": [],
   "source": [
    "## 문제 2.\n",
    "## 피보나치 수열의 각 항은 바로 앞의 항 두 개를 더한 것이 됩니다. \n",
    "## 1과 2로 시작하는 경우 이 수열은 아래와 같습니다.\n",
    "\n",
    "## 1, 2, 3, 5, 8, 13, 21, 34, 55, 89, ...\n",
    "## 짝수이면서 4백만 이하인 모든 항을 더하면 얼마가 됩니까?\n",
    "\n",
    "pib_arr=[1,2]\n",
    "for i in range(2,60):\n",
    "    pib_arr.append(pib_arr[i-2]+pib_arr[i-1])\n",
    "    \n",
    "\n",
    "sum = 0\n",
    "for n in range(60):\n",
    "    if pib_arr[n] % 2 ==0 and pib_arr[n] < 4000000:\n",
    "        sum +=pib_arr[n]\n",
    "        \n",
    "print(sum)"
   ]
  },
  {
   "cell_type": "code",
   "execution_count": null,
   "id": "a2f84431",
   "metadata": {},
   "outputs": [],
   "source": [
    "## 문제 3.\n",
    "## 알파벳 대소문자로 된 문자열이 주어지면, \n",
    "## 이 문자열에서 가장 많이 사용된 알파벳이 \n",
    "## 무엇인지 출력하는 프로그램을 작성하시오. \n",
    "## 단, 대소문자는 구별하지 않아요. 만약 동률이 존재하는 경우 \n",
    "## 알파벳 순으로 제일 앞에 있는\n",
    "## 문자를 출력하세요.\n",
    "\n",
    "text = \"abcdabcdababccddcd\"\n",
    "#대소문자를 구분하지 않기에 모두 소문자로 변경\n",
    "upper_text = text.lower()\n",
    "cnt = 0\n",
    "letter = ''\n",
    "for i in range(len(upper_text)):\n",
    "    if cnt < upper_text.count(upper_text[i]):\n",
    "        cnt = upper_text.count(upper_text[i])\n",
    "        letter = upper_text[i]\n",
    "        \n",
    "print(letter,cnt)\n",
    "\n",
    "## 문자열) \"This is a sample Program mississippi river\"\n",
    "## 문자열) \"abcdabcdababccddcd\""
   ]
  }
 ],
 "metadata": {
  "kernelspec": {
   "display_name": "Python [conda env:data_env] *",
   "language": "python",
   "name": "conda-env-data_env-py"
  },
  "language_info": {
   "codemirror_mode": {
    "name": "ipython",
    "version": 3
   },
   "file_extension": ".py",
   "mimetype": "text/x-python",
   "name": "python",
   "nbconvert_exporter": "python",
   "pygments_lexer": "ipython3",
   "version": "3.7.10"
  }
 },
 "nbformat": 4,
 "nbformat_minor": 5
}
