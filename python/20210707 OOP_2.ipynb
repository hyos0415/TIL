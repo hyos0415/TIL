{
 "cells": [
  {
   "cell_type": "code",
   "execution_count": 6,
   "id": "4fd0c7b6",
   "metadata": {
    "scrolled": true
   },
   "outputs": [
    {
     "name": "stdout",
     "output_type": "stream",
     "text": [
      "현대 2000 2000\n",
      "100\n",
      "현대 3000 3000\n",
      "100\n"
     ]
    }
   ],
   "source": [
    "class Car(object):\n",
    "    \n",
    "    my_variable = 100 # class variable\n",
    "    # 생성자, initializer\n",
    "    def __init__(self, maker, cc, price):\n",
    "        self.maker = maker\n",
    "        self.cc = cc\n",
    "        self.price = price\n",
    "        \n",
    "    def print_car_info(self):\n",
    "        print(self.maker, self.cc, self.price)\n",
    "        print(Car.my_variable)\n",
    "        \n",
    "    # class 기반으로 heap 영역 메모리 공간을 할당\n",
    "    # 이 확보된 메모리 공간 자체를 instance라고 함 - 객체 (object)\n",
    "    \n",
    "car_1 = Car('현대', 2000, 2000)\n",
    "car_1.print_car_info()\n",
    "car_2 = Car('현대', 3000, 3000)\n",
    "car_1.color = 'RED'\n",
    "# 동적 property 나 method 추가 가능\n",
    "# 유연성\n",
    "\n",
    "# car_1과 car_2 안에는 인스턴스의 메모리 주소값이 들어가 있음\n",
    "# 일반적으로 이런 변수들을 가르켜서 reference variable\n",
    "# 하지만 프로그래밍 할때에은 심플하게 car_1 / car_2가 객체\n",
    "\n",
    "# 객체가 있다는 얘기는 class가 있다\n",
    "# 모든 객체는 기본적으로 변수(property)/함수(method)를 가지고 있음\n",
    "# 객체가 가지는 property/method를 사용하기위한 연산자\n",
    "# .(dot operator)\n",
    "# A.B\n",
    "\n",
    "# class varialbe은 instance 별로 변수 공간이 따로 잡히지 않음\n",
    "# instance가 해당 변수를 공유하는 개념으로 사용\n",
    "\n",
    "# car_1.cc, car_2.cc 는 같은 변수가 아님(별개의 공간)\n",
    "# car_1.my_variable 은 car_2.my_variable과 같은 변수\n",
    "# class variable은 클래스명 사용\n",
    "# 변수를 찾는 순서 : 인스턴스 > 클래스 > 슈퍼클래스\n",
    "\n",
    "car_1.my_variable = 300\n",
    "car_2.print_car_info()"
   ]
  },
  {
   "cell_type": "code",
   "execution_count": 25,
   "id": "a170186a",
   "metadata": {
    "scrolled": true
   },
   "outputs": [
    {
     "name": "stdout",
     "output_type": "stream",
     "text": [
      "소멸자 호출\n",
      "소멸자 호출\n",
      "현재 홍길동의 연봉은 1000입니다.\n",
      "현재 강감찬의 연봉은 3000입니다.\n",
      "인상률이1.3로 조정\n",
      "현재 홍길동의 연봉은 1300.0입니다.\n",
      "현재 강감찬의 연봉은 3000입니다.\n",
      "뭔말알?\n"
     ]
    }
   ],
   "source": [
    "class Employee(object):\n",
    "    \n",
    "    raise_rate = 1.1 # class variable (연봉 인상률)\n",
    "    \n",
    "    # instance 초기화\n",
    "    def __init__(self,u_name,u_pay,u_mobile):\n",
    "        self.u_name = u_name   #instance variable\n",
    "        self.u_pay = u_pay\n",
    "        self.u_mobile = u_mobile\n",
    "    \n",
    "    # 해당 instance heap에서 삭제\n",
    "    def __del__(self):\n",
    "        print('소멸자 호출')\n",
    "        \n",
    "    # instance 문자열 화\n",
    "    def __str__(self):\n",
    "        return '뭔말알?'\n",
    "        \n",
    "        \n",
    "        # business method (instance method)\n",
    "    def apply_raise(self):\n",
    "        self.u_pay = self.u_pay * self.raise_rate\n",
    "        \n",
    "    def get_user_info(self):\n",
    "        return \"현재 {}의 연봉은 {}입니다.\".format(self.u_name, self.u_pay)\n",
    "    \n",
    "    # decorator 를 이용 class method 정의\n",
    "    @classmethod\n",
    "    def change_raise_rate(cls, rate):\n",
    "        cls.raise_rate = rate\n",
    "        print('인상률이{}로 조정'.format(rate))\n",
    "        \n",
    "    @staticmethod\n",
    "    def my_func():\n",
    "        pass\n",
    "        \n",
    "emp_1 = Employee('홍길동', 1000, '010-1234-5678')\n",
    "emp_2 = Employee('강감찬', 3000, '010-1111-1111')\n",
    "\n",
    "# 연봉 인상 전 두 사람 정보 출력\n",
    "\n",
    "print(emp_1.get_user_info())\n",
    "print(emp_2.get_user_info())\n",
    "\n",
    "#인상률 변경\n",
    "Employee.change_raise_rate(1.3)\n",
    "\n",
    "#emp_1의 연봉 인상\n",
    "emp_1.apply_raise()\n",
    "\n",
    "#연봉 인상 후 정보 출력\n",
    "print(emp_1.get_user_info())\n",
    "print(emp_2.get_user_info())\n",
    "\n",
    "emp_1.__u_mobile = '010-4444-5555'\n",
    "#__를 property 얖에 붙이면 private로 동작\n",
    "\n",
    "print(emp_1)\n"
   ]
  },
  {
   "cell_type": "code",
   "execution_count": 13,
   "id": "29d3a4c3",
   "metadata": {},
   "outputs": [
    {
     "name": "stdout",
     "output_type": "stream",
     "text": [
      "['__class__', '__delattr__', '__dict__', '__dir__', '__doc__', '__eq__', '__format__', '__ge__', '__getattribute__', '__gt__', '__hash__', '__init__', '__init_subclass__', '__le__', '__lt__', '__module__', '__ne__', '__new__', '__reduce__', '__reduce_ex__', '__repr__', '__setattr__', '__sizeof__', '__str__', '__subclasshook__', '__weakref__', 'damage', 'has_chain', 'life']\n"
     ]
    }
   ],
   "source": [
    "# 객체 지향의 꽃 > 상속 (Inheritance)\n",
    "# class를 상속 해서 다른 class 확상시키는 기법\n",
    "# 부모 class > parent class, super class, upper class\n",
    "# 자식 class > child class, sub class\n",
    "\n",
    "class Unit(object):\n",
    "    \n",
    "    def __init__(self, damage, life):\n",
    "        self.damage = damage\n",
    "        self. life = life\n",
    "        \n",
    "class Tank(Unit):   #Inheritance\n",
    "    \n",
    "    def __init__(self, damage, life, has_chain):\n",
    "        super(Tank, self).__init__(damage,life)\n",
    "        self.has_chain = True\n",
    "    \n",
    "tank_1 = Tank(100,50,True)\n",
    "\n",
    "tank_1.damage = 1000\n",
    "    \n",
    "print(dir(tank_1))"
   ]
  },
  {
   "cell_type": "code",
   "execution_count": null,
   "id": "6c11f7c5",
   "metadata": {},
   "outputs": [],
   "source": [
    "# class와 instance에 대한 기본적인 사항\n",
    "\n",
    "# magic method\n",
    "# method 이름 앞에 __ 가 붙은 method 지칭 (__init__(~~))\n",
    "# class안에 정의된 특수한 기능을 하고 있는 method\n",
    "\n",
    "def __init__(self):\n",
    "    print('initializer가 호출되었어요')\n",
    "\n",
    "def __del__(self):\n",
    "    print('소멸자가 호출되었어요')"
   ]
  },
  {
   "cell_type": "code",
   "execution_count": 26,
   "id": "77a594d1",
   "metadata": {
    "scrolled": true
   },
   "outputs": [
    {
     "name": "stdout",
     "output_type": "stream",
     "text": [
      "기아이 배기량이 작습니다.\n"
     ]
    }
   ],
   "source": [
    "class Car(object):\n",
    "    \n",
    "    def __init__(self,maker,cc):\n",
    "        self.maker = maker\n",
    "        self.cc = cc\n",
    "        \n",
    "    def __lt__ (self,other): #비교연산자\n",
    "        if self.cc < other.cc:\n",
    "            return '{}이 배기량이 작습니다.'.format(self.maker)\n",
    "        else:\n",
    "            return '{}이 배기량이 작습니다.'.format(other.maker)\n",
    "        \n",
    "car_1 = Car('현대',3000)\n",
    "car_2 = Car('기아',2000)\n",
    "\n",
    "print(car_1 < car_2)"
   ]
  },
  {
   "cell_type": "code",
   "execution_count": 32,
   "id": "43afe836",
   "metadata": {
    "scrolled": true
   },
   "outputs": [
    {
     "name": "stdout",
     "output_type": "stream",
     "text": [
      "6\n",
      "15\n"
     ]
    }
   ],
   "source": [
    "# first class(일급)\n",
    "# first-class citizen\n",
    "# > 프로그래밍 개체(함수, 객체 , 변수 등) 다음의 조건을 충족\n",
    "# > first-class citizen\n",
    "# 1. 변수에 저장될 수 있어야함\n",
    "# 2. 함수에 인자로 전달될 수 있어야함\n",
    "# 3. 함수의 결과로 리턴될 수 있어야함\n",
    "\n",
    "# 우리가 지금까지 설명한 class로 부터 파생된 instance는 1급 객체\n",
    "# function도 first class 조건을 만족.\n",
    "# > python의 함수는 1급함수\n",
    "'''\n",
    "def my_add(x,y):\n",
    "    return x+y\n",
    "\n",
    "def my_mul(x,y):\n",
    "    return x*y\n",
    "\n",
    "def my_opperation(func, x, y):\n",
    "    result = func(x,y)\n",
    "    return result\n",
    "\n",
    "print(my_opperation(my_mul,10,20))'''\n",
    "\n",
    "def addmaker(x):\n",
    "    \n",
    "    def my_add_maker(y):\n",
    "        return x+y\n",
    "    \n",
    "    return my_add_maker\n",
    "\n",
    "add_5 = addmaker(5)\n",
    "add_10 = addmaker(10)\n",
    "\n",
    "print(add_5(1))\n",
    "print(add_10(5)) # >Closure 제공 (1급 함수 특징)\n",
    "\n",
    "# 도대체 어디다 쓸까용?"
   ]
  },
  {
   "cell_type": "code",
   "execution_count": null,
   "id": "27daea5e",
   "metadata": {},
   "outputs": [],
   "source": [
    "# Module\n",
    "# Database 관련 프로그래밍 - 라이브러리 (class, function)\n",
    "# 채팅프로그램과 같은 network 프로그램\n",
    "# 라이브러리를 사용했을 때 본인의 상황에 맞게 변형을 시켜야하는데\n",
    "# 그 과정이 상당히 복잡하여 유지보수가 어려움\n",
    "\n",
    "# Framework = Library + 동작 mechanism이 같이 들어가 있음\n",
    "\n",
    "# Module : 함수(function)나, 변수, class들을 모아둔 파일을 지\n",
    "# 하나의 python 프로그램에서 불러다가 사용할 수 있는 python 파일\n",
    "\n"
   ]
  }
 ],
 "metadata": {
  "kernelspec": {
   "display_name": "Python [conda env:data_env] *",
   "language": "python",
   "name": "conda-env-data_env-py"
  },
  "language_info": {
   "codemirror_mode": {
    "name": "ipython",
    "version": 3
   },
   "file_extension": ".py",
   "mimetype": "text/x-python",
   "name": "python",
   "nbconvert_exporter": "python",
   "pygments_lexer": "ipython3",
   "version": "3.7.10"
  }
 },
 "nbformat": 4,
 "nbformat_minor": 5
}
