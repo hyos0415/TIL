{
 "cells": [
  {
   "cell_type": "code",
   "execution_count": null,
   "id": "f38e4a15",
   "metadata": {},
   "outputs": [],
   "source": [
    "# python built-in data type\n",
    "\n",
    "# Numeric\n",
    "  # int(정수)\n",
    "  # float(실수)\n",
    "  # complex(복소수)\n",
    "# Sequence\n",
    "  # list\n",
    "  # tuple\n",
    "  # range\n",
    "# Text Sequence\n",
    "  # str\n",
    "# Mapping\n",
    "  # dict\n",
    "# Set\n",
    "  # set\n",
    "# Bool\n",
    "  # True, False"
   ]
  },
  {
   "cell_type": "code",
   "execution_count": 8,
   "id": "86b9757f",
   "metadata": {},
   "outputs": [
    {
     "name": "stdout",
     "output_type": "stream",
     "text": [
      "aa\n",
      "bb\n",
      "결과 : 4950\n",
      "key : name, value : 홍길동\n",
      "key : 주소, value : 서울\n",
      "key : 나이, value : 30\n",
      "[2, 4, 6, 8, 10, 12, 14, 16, 18]\n",
      "[2, 4, 6, 8, 10, 12, 14, 16, 18]\n",
      "[4, 8, 12, 16]\n"
     ]
    }
   ],
   "source": [
    "# python control statement\n",
    "# if, for, while\n",
    "\n",
    "# 논리식 => 3 > 5 => False\n",
    "a = 100\n",
    "\n",
    "if a > 5:\n",
    "    print('aa')\n",
    "    print('bb')\n",
    "elif a > 2:\n",
    "    print('haha')\n",
    "else:\n",
    "    print('cc')\n",
    "    print('dd')\n",
    "\n",
    "# for문은 크게 2가지 형태로 사용이 되요!\n",
    "\n",
    "# for ~ in range\n",
    "# for ~ in list, tuple, dict\n",
    "\n",
    "mySum = 0\n",
    "for aaa in range(100):\n",
    "    mySum += aaa\n",
    "print('결과 : {}'.format(mySum))\n",
    "\n",
    "# a = [1, 2, 3, 4]\n",
    "a = { 'name' : '홍길동', '주소' : '서울', '나이' : 30 }\n",
    "\n",
    "for aaa in a:\n",
    "    print('key : {}, value : {}'.format(aaa,a[aaa]))\n",
    "    \n",
    "# list comprehension\n",
    "\n",
    "myList = [1, 2, 3, 4, 5, 6, 7, 8, 9]\n",
    "\n",
    "# 위의 리스트에서 각각의 요소에 x2를 해서 새로운 list를 만들어 보아요!\n",
    "result = list()\n",
    "for a in myList:\n",
    "    result.append(a*2)\n",
    "    \n",
    "print(result)    # [2, 4, 6, 8, 10, 12, 14, 16, 18]\n",
    "\n",
    "myList_1 = [tmp * 2 for tmp in myList]\n",
    "print(myList_1)  # [2, 4, 6, 8, 10, 12, 14, 16, 18]\n",
    "\n",
    "# 위의 리스트에서 요소의 값이 짝수인것을 찾아서 해당 요소에 x2를 해서 \n",
    "# 새로운 list를 만들어 보아요!\n",
    "myList_2 = [tmp * 2 for tmp in myList if tmp % 2 == 0]\n",
    "print(myList_2)"
   ]
  },
  {
   "cell_type": "code",
   "execution_count": 11,
   "id": "aef18418",
   "metadata": {},
   "outputs": [
    {
     "ename": "SyntaxError",
     "evalue": "unexpected EOF while parsing (<ipython-input-11-ab0a8aada1ee>, line 15)",
     "output_type": "error",
     "traceback": [
      "\u001b[1;36m  File \u001b[1;32m\"<ipython-input-11-ab0a8aada1ee>\"\u001b[1;36m, line \u001b[1;32m15\u001b[0m\n\u001b[1;33m    \u001b[0m\n\u001b[1;37m    ^\u001b[0m\n\u001b[1;31mSyntaxError\u001b[0m\u001b[1;31m:\u001b[0m unexpected EOF while parsing\n"
     ]
    }
   ],
   "source": [
    "# 반복문의 또 다른 방법\n",
    "# while\n",
    "\n",
    "idx = 0\n",
    "\n",
    "\n",
    "while idx < 10:\n",
    "    print('haha')\n",
    "    idx += 1\n",
    "    if idx > 5:\n",
    "        break   # break : 가장 인접한 루프를 탈출하는 keyword\n",
    "        \n",
    "for tmp in range(10):\n",
    "    pass\n",
    "    "
   ]
  },
  {
   "cell_type": "code",
   "execution_count": 14,
   "id": "1df70af4",
   "metadata": {},
   "outputs": [
    {
     "name": "stdout",
     "output_type": "stream",
     "text": [
      "[0, 2, 3, 6, 7, 10]\n",
      "None\n",
      "[1, 2, 3, 4]\n"
     ]
    }
   ],
   "source": [
    "# 함수(function) , 객체지향(Object Oriented)\n",
    "# 함수 \n",
    "# 특정 역할을 수행하는 코드 집합을 하나의 단위로 묶어놓은것\n",
    "\n",
    "a = [3,7,2,6,10,0]\n",
    "a.sort()  # 함수를 사용하기 위해서 호출(call)\n",
    "          # 함수를 호출하면 원본이 변하는 경우가 있어요!\n",
    "          # 함수를 호출하면 원본은 변화하지 않고 함수가 적용된 결과가 만들어져요(리턴)\n",
    "          # 결과가 리턴되요!\n",
    "print(a)\n",
    "\n",
    "a = [1, 2, 3]\n",
    "result = a.append(4)  # 인자를 넘겨줘요(함수에 전달해요)\n",
    "print(result)  # None\n",
    "print(a)\n",
    "\n",
    "####\n",
    "\n",
    "# 과거에는 함수기반의 언어가 많았어요. 대표적으로 C 언어\n",
    "# 내가 구현해야 하는 내용을 기능으로 세분화\n",
    "# 은행프로그램을 만들어요!\n",
    "#  - 예금기능\n",
    "#    - 무통장입금\n",
    "#    - 자행이체\n",
    "#      - 일반 이체  -> 함수형태로 코드 구현\n",
    "#      - 예약 이체\n",
    "#    - 타행이체\n",
    "#  - 대출기능\n",
    "#  - 보험기능\n",
    "#  - 외환기능\n",
    "\n",
    "# 구조적 프로그래밍, 절차지향 프로그래밍, Top down방식 프로그래밍\n",
    "# divide and Conquer\n",
    "\n",
    "# 장점 : 분석과 설계가 비교적 간단\n",
    "#        => 프로그램 작성기간이 짧아져요\n",
    "#        => 인력과 돈이 작게 들어요!\n",
    "# 단점 : 프로그램의 유지보수가 힘들어요!\n",
    "#       프로그램의 유지보수가 많이 필요한 세상이 되었어요!    \n",
    "\n",
    "# 객체지향으로 넘어가게 되요!\n",
    "\n",
    "    \n"
   ]
  },
  {
   "cell_type": "code",
   "execution_count": 27,
   "id": "92ea1f5c",
   "metadata": {},
   "outputs": [
    {
     "name": "stdout",
     "output_type": "stream",
     "text": [
      "입력받은 값은 (10, 20, 30, 40) 입니다.\n",
      "100\n"
     ]
    }
   ],
   "source": [
    "# python의 함수적 특징\n",
    "\n",
    "# python의 함수는 크게 2가지 분류가 있어요!\n",
    "# 내장함수( len() )\n",
    "# 사용자 정의 함수(User define function)\n",
    "\n",
    "# 내장함수\n",
    "# a = 'Hello'\n",
    "# print(len(a))\n",
    "\n",
    "# 사용자 정의 함수\n",
    "# 함수를 정의할 때 사용하는 keyword : def\n",
    "# 함수이름(함수명)을 지어야 해요 -> 가독성이 있어야 해요. 숫자로 시작하면 안되요!\n",
    "#                                 대문자로 시작하지 않습니다. 한글안되요!\n",
    "#                                 name_search\n",
    "#   \n",
    "\n",
    "def my_sum(*a):    # *는 tuple형태로 입력데이터를 받아요!\n",
    "    print('입력받은 값은 {} 입니다.'.format(a))\n",
    "    result = 0\n",
    "    for tmp in a:\n",
    "        result += tmp\n",
    "    return result\n",
    "\n",
    "my_result = my_sum(10,20,30,40)\n",
    "print(my_result)\n",
    "\n"
   ]
  },
  {
   "cell_type": "code",
   "execution_count": 40,
   "id": "b71e8ba1",
   "metadata": {},
   "outputs": [
    {
     "name": "stdout",
     "output_type": "stream",
     "text": [
      "안녕하세요\n"
     ]
    }
   ],
   "source": [
    "# a = 100\n",
    "# print(a)  # 100\n",
    "# # a라는 변수가 가지고 있는 주소값을 찍고 싶어요!\n",
    "# print(id(a))   # 140703410269696(100이라는 정수값이 저장된 메모리 주소값)\n",
    "\n",
    "# a = [1, 2, 3]  # 1783259816392 \n",
    "# print(id(a))\n",
    "# b = [1, 2, 3]  \n",
    "# print(id(b))   # 1783259120200\n",
    "\n",
    "# print( a == b )  # True\n",
    "# print( a is b )  # False\n",
    "\n",
    "# a = 50\n",
    "# b = 50\n",
    "\n",
    "# print (a is b) # True\n",
    "# # 숫자는 워낙 많이 사용되서 256까지는 객체를 1개만 만들어서 공유\n",
    "\n",
    "# a = 256\n",
    "# b = 256\n",
    "# print (a is b) # True\n",
    "\n",
    "# a = 257\n",
    "# b = 257\n",
    "# print (a is b) # False\n",
    "\n",
    "\n",
    "def my_sum(a,b):\n",
    "    print(\"안녕하세요\")\n",
    "    result = a + b\n",
    "    return result\n",
    "\n",
    "def my_test(hoho):\n",
    "    hoho(10,20)\n",
    "    \n",
    "my_test(my_sum)    "
   ]
  },
  {
   "cell_type": "code",
   "execution_count": null,
   "id": "9f0cde71",
   "metadata": {},
   "outputs": [],
   "source": [
    "# python의 함수는 return값을 여러개 사용할 수 있어요! (X)\n",
    "\n",
    "def my_program(a,b):\n",
    "    result1 = a + b\n",
    "    result2 = a * b\n",
    "    return result1, result2\n",
    "\n",
    "a,b = my_program(10,20)"
   ]
  },
  {
   "cell_type": "code",
   "execution_count": 42,
   "id": "0a1aedfb",
   "metadata": {},
   "outputs": [
    {
     "name": "stdout",
     "output_type": "stream",
     "text": [
      "30\n"
     ]
    }
   ],
   "source": [
    "# python의 함수는  default parameter를 사용할 수 있어요!\n",
    "\n",
    "def my_sum(a,b,c=True):\n",
    "    if c:\n",
    "        print(a+b)\n",
    "    else:\n",
    "        print(a*b)\n",
    "\n",
    "# my_sum(10,20,True)  \n",
    "my_sum(10,20)    # default parameter가 있는 경우 맨 마지막 입력인자를 \n",
    "                 # 생략할 수 있어요!"
   ]
  },
  {
   "cell_type": "code",
   "execution_count": 44,
   "id": "b4a2c0d1",
   "metadata": {},
   "outputs": [
    {
     "name": "stdout",
     "output_type": "stream",
     "text": [
      "현재 data_x : 10, data_list : [1, 2, 3]\n",
      "현재 data_x : 10, data_list : [1, 2, 3, 100]\n"
     ]
    }
   ],
   "source": [
    "# python 함수는 입력인자에 대해 mutable(가변의), immutable(불변의)\n",
    "# call-by-value, call-by-reference(전공자는 이렇게 이해)\n",
    "# 숫자, 문자열, tuple => immutable\n",
    "# list => mutable\n",
    "\n",
    "def my_func(tmp_number, tmp_list):\n",
    "    tmp_number += 10\n",
    "    tmp_list.append(100)\n",
    "\n",
    "data_x = 10\n",
    "data_list = [1,2,3]\n",
    "\n",
    "print('현재 data_x : {}, data_list : {}'.format(data_x, data_list))\n",
    "my_func(data_x, data_list)\n",
    "print('현재 data_x : {}, data_list : {}'.format(data_x, data_list))\n"
   ]
  },
  {
   "cell_type": "code",
   "execution_count": 1,
   "id": "baf62789",
   "metadata": {},
   "outputs": [
    {
     "name": "stdout",
     "output_type": "stream",
     "text": [
      "200\n"
     ]
    },
    {
     "ename": "NameError",
     "evalue": "name 'tmp' is not defined",
     "output_type": "error",
     "traceback": [
      "\u001b[1;31m---------------------------------------------------------------------------\u001b[0m",
      "\u001b[1;31mNameError\u001b[0m                                 Traceback (most recent call last)",
      "\u001b[1;32m<ipython-input-1-43027c0f0862>\u001b[0m in \u001b[0;36m<module>\u001b[1;34m\u001b[0m\n\u001b[0;32m      9\u001b[0m \u001b[1;33m\u001b[0m\u001b[0m\n\u001b[0;32m     10\u001b[0m \u001b[0mprint\u001b[0m\u001b[1;33m(\u001b[0m\u001b[0mmy_func\u001b[0m\u001b[1;33m(\u001b[0m\u001b[1;36m100\u001b[0m\u001b[1;33m)\u001b[0m\u001b[1;33m)\u001b[0m\u001b[1;33m\u001b[0m\u001b[1;33m\u001b[0m\u001b[0m\n\u001b[1;32m---> 11\u001b[1;33m \u001b[0mprint\u001b[0m\u001b[1;33m(\u001b[0m\u001b[0mtmp\u001b[0m\u001b[1;33m)\u001b[0m\u001b[1;33m\u001b[0m\u001b[1;33m\u001b[0m\u001b[0m\n\u001b[0m\u001b[0;32m     12\u001b[0m \u001b[1;33m\u001b[0m\u001b[0m\n",
      "\u001b[1;31mNameError\u001b[0m: name 'tmp' is not defined"
     ]
    }
   ],
   "source": [
    "# local variable vs. global variable\n",
    "\n",
    "\n",
    "\n",
    "def my_func(x):\n",
    "    tmp = 100    \n",
    "    tmp += x\n",
    "    return tmp\n",
    "\n",
    "print(my_func(100))\n",
    "print(tmp)\n",
    "\n"
   ]
  },
  {
   "cell_type": "code",
   "execution_count": 16,
   "id": "ff6e6827",
   "metadata": {},
   "outputs": [
    {
     "name": "stdout",
     "output_type": "stream",
     "text": [
      "3\n",
      "3.141592\n",
      "['this', 'is', 'a', 'sample', 'text']\n",
      "(0, 'this')\n",
      "(1, 'is')\n",
      "(2, 'a')\n",
      "(3, 'sample')\n",
      "(4, 'text')\n",
      "[1, 2, 3, 6, 7, 8]\n"
     ]
    }
   ],
   "source": [
    "# python의 내장함수\n",
    "\n",
    "# type()\n",
    "# id()\n",
    "# print()\n",
    "# len()\n",
    "\n",
    "a = 3.141592\n",
    "print(int(a))\n",
    "print(str(a))\n",
    "# float()\n",
    "# list()\n",
    "# tuple()\n",
    "# set()\n",
    "# dict()\n",
    "\n",
    "a = 'this is a sample text'\n",
    "my_list = a.split()\n",
    "print(my_list)   # ['this', 'is', 'a', 'sample', 'text']\n",
    "\n",
    "for (idx,tmp) in enumerate(my_list):\n",
    "    print((idx, tmp)) # 0 this\n",
    "    \n",
    "    \n",
    "my_list = [3,6,8,1,2,7]\n",
    "# my_list.sort()\n",
    "# print(my_list)  # [1, 2, 3, 6, 7, 8]\n",
    "print(sorted(my_list))  # [1, 2, 3, 6, 7, 8]\n"
   ]
  }
 ],
 "metadata": {
  "kernelspec": {
   "display_name": "Python [conda env:data_env] *",
   "language": "python",
   "name": "conda-env-data_env-py"
  },
  "language_info": {
   "codemirror_mode": {
    "name": "ipython",
    "version": 3
   },
   "file_extension": ".py",
   "mimetype": "text/x-python",
   "name": "python",
   "nbconvert_exporter": "python",
   "pygments_lexer": "ipython3",
   "version": "3.7.10"
  }
 },
 "nbformat": 4,
 "nbformat_minor": 5
}
