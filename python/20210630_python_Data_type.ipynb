{
 "cells": [
  {
   "cell_type": "code",
   "execution_count": 8,
   "id": "239dc0ea",
   "metadata": {},
   "outputs": [
    {
     "name": "stdout",
     "output_type": "stream",
     "text": [
      "[1, 2, 3]\n",
      "[1, 2, 3, 4, 5, 6]\n",
      "[1, 2, 3, 4, 5, 4, 5, 6]\n",
      "[1, 2, 3, 4, 4, 5, 5, 6]\n",
      "[6, 5, 5, 4, 4, 3, 2, 1]\n"
     ]
    }
   ],
   "source": [
    "'''Sequence Data Type\n",
    "1.list (class) : 여러가지 데이터 타입을 순차적으로 저장\n",
    "'''\n",
    "a = list() #empty list 생성하는 가장 일반적인 형태\n",
    "a = [] # Literal 표현\n",
    "a = [1, 2, 3] #element 나열 방법\n",
    "\n",
    "# indexing list의 인덱스를 가지고 해당 자료를 다루는 방식\n",
    "# 숫자 index는 시작이 0 부터 시작\n",
    "\n",
    "# slicing : 범위를 지정하여 해당 원본 list에서 가져오는 방식\n",
    "# 슬라이싱의 결과는 원본과 같은 데이터 타입\n",
    "\n",
    "print(a[:])\n",
    "\n",
    "#list 연산\n",
    "\n",
    "a = [1, 2, 3]\n",
    "b = [4, 5, 6]\n",
    "\n",
    "res = a + b # 기호가 같으나 연산자의 역할이 다른 경우 - 연산자 오버로딩\n",
    "            # 리스트의 연결의 의미로 변함 연산자 overloading\n",
    "print(res)\n",
    "\n",
    "#print(a[0] + 'Hello') #다른 프로그래밍 언어에서는 a[0]를  \n",
    "                      #'문자로 자동 형변환 하여 '1Hello'가 나오나\n",
    "                      # 파이썬에서는 자동형변환이 일어나지 않음\n",
    "        \n",
    "a = [1, 2, 3, 4]\n",
    "a.append(5) # append() 는 리스트 마지막에 요소를 추가하는 함수\n",
    "            # 함수는 2가지 형태로 사용이 되는데\n",
    "            # 원본이 바뀌는 경우\n",
    "            # 원본이 변하지 않고 결과값이 리턴되는 경우\n",
    "            \n",
    "a.extend([4, 5, 6])\n",
    "print(a)\n",
    "\n",
    "a.sort() #오름차순 정렬/함수 원본이 바뀜\n",
    "print(a)\n",
    "a.reverse() #내림차순 정렬\n",
    "print(a)"
   ]
  },
  {
   "cell_type": "code",
   "execution_count": 12,
   "id": "fdec911d",
   "metadata": {},
   "outputs": [
    {
     "name": "stdout",
     "output_type": "stream",
     "text": [
      "<class 'tuple'>\n",
      "<class 'tuple'>\n",
      "4\n",
      "(1, 2, 3, 4, [88, 6])\n"
     ]
    }
   ],
   "source": [
    "# python의 Sequence data type\n",
    "\n",
    "#tuple\n",
    "\n",
    "#list와 상당히 유사\n",
    "#여러가지 데이터를 순차적으로 저장하는 집합자료형\n",
    "#tuple은 read only!!! (원본 변경 불가능)\n",
    "\n",
    "t = tuple() #요소가 없는 튜플 생성\n",
    "t = () #tuple은 소괄호\n",
    "#원래 소괄호는 연산자 우선순위 지정\n",
    "#요소가 하나 있는 튜플은 연산자 우선순위 지정하는 소괄호와 구분하기 위해\n",
    "a = (1,) #이렇게 표현\n",
    "print(type(a))\n",
    "\n",
    "#datatype 확인 함수 type()\n",
    "#tuple은 괄호 생략가능하다\n",
    "a = 1, 2, 3, 4\n",
    "print(type(a))\n",
    "\n",
    "# indexing, slicing 가능\n",
    "# indexing 할 때는 대괄호 사용\n",
    "print(a[3])\n",
    "#튜플 내의 리스트값은 변경이 가능\n",
    "a = (1, 2, 3, 4, [5, 6])\n",
    "a[4][0]= 88\n",
    "print(a)\n",
    "#+로 커넥팅 가능\n",
    "#튜플을 리스트로 리스트를 튜플로 변경 가능\n",
    "#단 원본이 바뀌진 않음!!!"
   ]
  },
  {
   "cell_type": "code",
   "execution_count": 14,
   "id": "7024ba70",
   "metadata": {},
   "outputs": [
    {
     "name": "stdout",
     "output_type": "stream",
     "text": [
      "range(1, 10)\n"
     ]
    }
   ],
   "source": [
    "#Sequence Data Type\n",
    "\n",
    "#range\n",
    "#for 반복문에서 주로 사용\n",
    "#영역을 나타냄\n",
    "a = range(1,10,1) #range(1(시작),10(끝),1(증감))\n",
    "                  #시작inclusive, 10exclusive\n",
    "                  #작은 메모리 공간으로 \n",
    "                  #list는 메모리 공간을 요소들이 하나한 차지\n",
    "print(a)\n",
    "a = range(10)     #초기값 증감이 빠진 경우\n",
    "                  #초기값0 , 증감1\n",
    "    \n",
    "# 추가적 연산자로 i \n",
    "# 특정 요소가 연속형 자료형 안에 포함이 되는지 아닌지 판별\n",
    "# return은 bool (True/False)\n",
    "# range 에서도 [-1] 같은 -인덱스 사용 가능"
   ]
  },
  {
   "cell_type": "code",
   "execution_count": 150,
   "id": "d2fc1c3d",
   "metadata": {},
   "outputs": [
    {
     "name": "stdout",
     "output_type": "stream",
     "text": [
      "HELLO\n",
      "철수는 사과를 5개 영희는 바나나70개\n",
      "21\n",
      "['철수는', '사과를', '5개', '영희는', '바나나70개']\n"
     ]
    }
   ],
   "source": [
    "#python - Text Sequence Data Type\n",
    "#흔히 문자열\n",
    "#class는 \"str class\"\n",
    "\n",
    "#다른 언어에서는 ''문자, \"\"문자열 구분\n",
    "#python에서는 문자개념이 없음/ 모두 문자열임\n",
    "#list안에 각 요소가 문자로 구성\n",
    "#문자열 handling 이 중요!\n",
    "#공백도 문자열로 포함\n",
    "\n",
    "#문자열은 문자열을 제어하기 위한 정말 많은 함수를 제공\n",
    "a = 'hello'\n",
    "print(a.upper())\n",
    "#upper()함수는 리턴값이 있는 함수\n",
    "\n",
    "apple = 5\n",
    "banana = 70\n",
    "text = '철수는 사과를 {}개 영희는 바나나{}개'.format(apple,banana)\n",
    "a=text.strip( )\n",
    "print(a)\n",
    "\n",
    "#len() 함수  리턴값으로 -해당 문자열의 길이를 리턴\n",
    "print(len(text))\n",
    "\n",
    "#index() 해당 문자가 처음 나오는 인덱스 리턴\n",
    "#index함수에서 찾는 값이 없으면 에러가 나오는 듯함\n",
    "\n",
    "\n",
    "k = text.split()\n",
    "#.split() 문자열을 공백을 기준으로 분하하여 리스트로 리턴\n",
    "print(k)\n",
    "\n",
    "\n",
    "    "
   ]
  },
  {
   "cell_type": "code",
   "execution_count": 29,
   "id": "1a9933ad",
   "metadata": {},
   "outputs": [
    {
     "name": "stdout",
     "output_type": "stream",
     "text": [
      "{'chris': '3', 'paul': '13'}\n",
      "3\n",
      "{'chris': '3', 'paul': '13', 'curry': '30'}\n",
      "dict_keys(['chris', 'paul', 'curry'])\n",
      "dict_values(['3', '13', '30'])\n",
      "dict_items([('chris', '3'), ('paul', '13'), ('curry', '30')])\n"
     ]
    }
   ],
   "source": [
    "#Mapping data type\n",
    "# dict class\n",
    "#key와 value의 쌍으로 데이터 지정\n",
    "#최신 파이썬은 데이터 저장에 순서가 생겼으나, 순서가 없었음\n",
    "\n",
    "#중괄호를 이용하여 표현 {}\n",
    "#json 데이터 형식\n",
    "a = {'chris' : '3', 'paul' :  '13'}\n",
    "print(a)\n",
    "print(a['chris'])\n",
    "a['curry'] = '30'\n",
    "print(a)\n",
    "# 키값은 반드시 수정이 안되는 값으로 사용해야함!!!\n",
    "# 키 값에 list는 사용할 수 없음\n",
    "# tuple은 사용가능함!\n",
    "# dictionary 함수\n",
    "# keys() : key값만 뽑아옴 dict_keys로 리턴\n",
    "# values(): value 값만 뽑아옴\n",
    "print(a.keys())\n",
    "print(a.values())\n",
    "# items() : key와 value를 tuple로 묶어서 리스트로 리턴\n",
    "# 리스트로 리턴되기 때문에 순차처리 가능\n",
    "print(a.items())\n"
   ]
  },
  {
   "cell_type": "code",
   "execution_count": 31,
   "id": "1a3219f6",
   "metadata": {},
   "outputs": [
    {
     "name": "stdout",
     "output_type": "stream",
     "text": [
      "{1, 2, 3, 4, 6, 10}\n",
      "{2, 3, 4}\n",
      "{1}\n"
     ]
    }
   ],
   "source": [
    "#Set Type\n",
    "#class : set\n",
    "\n",
    "#주머니 같다? 데이터만 저장 , 키 벨류 개념이 없음, 순서도 없음\n",
    "#중복 저장 안됨\n",
    "#집합연산에 유리(합집합, 교집합, 차집합)\n",
    "\n",
    "a = set([1,2,3,4])\n",
    "b = set([4,3,2,6,10])\n",
    "\n",
    "print(a|b)\n",
    "print(a&b)\n",
    "print(a-b)"
   ]
  },
  {
   "cell_type": "code",
   "execution_count": 35,
   "id": "aa04ad08",
   "metadata": {},
   "outputs": [],
   "source": [
    "#bool type\n",
    "#True, False\n",
    "#연산자는 and, or, not\n",
    "\n",
    "#다음의 경우 False로 간주\n",
    "#빈 문자열('',\"\") 논리값으로 False로 간주\n",
    "#빈 리스트( [] ) 는 논리값으로 False로 간주\n",
    "#빈 튜플도 False\n",
    "#빈 딕셔너리도 False\n",
    "#숫자 0은 False (0이외의 다른숫자 True)\n",
    "#None False로 간주"
   ]
  },
  {
   "cell_type": "code",
   "execution_count": 40,
   "id": "2bdab8dc",
   "metadata": {},
   "outputs": [
    {
     "name": "stdout",
     "output_type": "stream",
     "text": [
      "장효성\t전기기사합격\n"
     ]
    }
   ],
   "source": [
    "##print() 는 인자로 들어오는 데이터를 문자열로 변환해서 출력\n",
    "##기본적인 print함수는 출력 후 line feed(한줄 띄기)\n",
    "print(\"장효성\", end='\\t')\n",
    "print('전기기사합격')\n",
    "# ,end''이런 식으로 하면 붙여쓰기 가능"
   ]
  },
  {
   "cell_type": "code",
   "execution_count": null,
   "id": "84634652",
   "metadata": {},
   "outputs": [],
   "source": [
    "## control statement (제어문)\n",
    "\n",
    "# 조건문과 반복문\n",
    "# 조건문 bool을 확인하여 분기\n",
    "# block 표현을 위해 {} 사용하지 않음\n",
    "# indentataion(들여쓰기) 이용"
   ]
  },
  {
   "cell_type": "code",
   "execution_count": 43,
   "id": "aaf32776",
   "metadata": {},
   "outputs": [
    {
     "name": "stdout",
     "output_type": "stream",
     "text": [
      "0\n",
      "1\n"
     ]
    }
   ],
   "source": [
    "#반복문\n",
    "#for문은 반복하는 횟수/정해져 있을 때\n",
    "#while은 조건에 따라서 반복 결정\n",
    "\n",
    "myList = [1, 2, 3, 4, 5]\n",
    "\n",
    "for tmp in range(5):\n",
    "    if tmp == 2:\n",
    "        break\n",
    "    print(tmp)"
   ]
  },
  {
   "cell_type": "code",
   "execution_count": 53,
   "id": "04d545d9",
   "metadata": {},
   "outputs": [
    {
     "name": "stdout",
     "output_type": "stream",
     "text": [
      "233168\n"
     ]
    }
   ],
   "source": [
    "##문제 1. \n",
    "##10 보다 작은 자연수 중에서 3또는 4의 배수는 3,5,6,9\n",
    "##이것들의 합은 23\n",
    "\n",
    "#1000보다 작은 자연수 중 3 or 5의 배수의 합은??\n",
    "\n",
    "sum = 0\n",
    "for i in range(1000):\n",
    "    if i%3 == 0 or i%5 ==0:\n",
    "        sum += i\n",
    "print(sum)\n",
    "        "
   ]
  },
  {
   "cell_type": "code",
   "execution_count": 61,
   "id": "f5dd3ae1",
   "metadata": {
    "scrolled": true
   },
   "outputs": [
    {
     "name": "stdout",
     "output_type": "stream",
     "text": [
      "4613732\n"
     ]
    }
   ],
   "source": [
    "##문제2\n",
    "#피보나치 수열 각 항과 바로 앞 항 두개 더한 것\n",
    "#짝수이면서 4백만 이하인 모든 항을 더하면 얼마?\n",
    "\n",
    "pib_arr=[1,2]\n",
    "for i in range(2,60):\n",
    "    pib_arr.append(pib_arr[i-2]+pib_arr[i-1])\n",
    "    \n",
    "\n",
    "sum = 0\n",
    "for n in range(60):\n",
    "    if pib_arr[n] % 2 ==0 and pib_arr[n] < 4000000:\n",
    "        sum +=pib_arr[n]\n",
    "        \n",
    "print(sum)\n",
    "        "
   ]
  },
  {
   "cell_type": "code",
   "execution_count": 2,
   "id": "77a9141d",
   "metadata": {},
   "outputs": [
    {
     "name": "stdout",
     "output_type": "stream",
     "text": [
      "c 5\n"
     ]
    }
   ],
   "source": [
    "##문제 3.\n",
    "#알파벳 대소문자 문자열 주어지면,\n",
    "#문자열에서 가장 많이 사용한 알파벳, 동률 시 가장 앞에 있는 문자열 출력\n",
    "text = \"abcdabcdababccddcd\"\n",
    "#대소문자를 구분하지 않기에 모두 소문자로 변경\n",
    "upper_text = text.lower()\n",
    "upper_text.strip()\n",
    "cnt = 0\n",
    "letter = ''\n",
    "for i in range(len(upper_text)):\n",
    "    if cnt < upper_text.count(upper_text[i]):\n",
    "        cnt = upper_text.count(upper_text[i])\n",
    "        letter = text[i]\n",
    "        \n",
    "print(letter,cnt)\n",
    "    "
   ]
  }
 ],
 "metadata": {
  "kernelspec": {
   "display_name": "Python [conda env:data_env] *",
   "language": "python",
   "name": "conda-env-data_env-py"
  },
  "language_info": {
   "codemirror_mode": {
    "name": "ipython",
    "version": 3
   },
   "file_extension": ".py",
   "mimetype": "text/x-python",
   "name": "python",
   "nbconvert_exporter": "python",
   "pygments_lexer": "ipython3",
   "version": "3.7.10"
  }
 },
 "nbformat": 4,
 "nbformat_minor": 5
}
