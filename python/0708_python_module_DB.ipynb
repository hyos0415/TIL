{
 "cells": [
  {
   "cell_type": "code",
   "execution_count": null,
   "id": "852c65b7",
   "metadata": {},
   "outputs": [],
   "source": [
    "# Module\n",
    "\n",
    "# 하나의 python 파일 : module.py\n",
    "# 현재 우리가 사용하고 있는 파일은 확장자가 .ipynb\n",
    "\n",
    "# 모듈은 변수, 함수, class 모아둠\n",
    "# 모듈을 사용하는 이유\n",
    "# 코드의 재사용성, 관리\n",
    "\n",
    "# 파이썬 모듈은 크게 2가지 종류\n",
    "# 1. C언어로 구현된 모듈\n",
    "# 2. 파이썬으로 구현된 모듈\n",
    "\n",
    "# import keyword\n",
    "\n",
    "# 1. 모듈 생성 (새로운 파이썬 소스 코드)\n",
    "# 2. 약간의 환경설정\n",
    "#  -코드 상으로 설정하는 방법\n",
    "#  -시스템적으로 환경 변수를 이용해서 설정하는 방법(영구적)\n",
    "#   윈도우 시스템의 환경 변수를 하나 만듬 > PYTHONPATH\n",
    "#.  윈도우 사용할 때 많은 환경 변수들이 있는데\n",
    "#   각각의 어플리케이션들은 시작할때 환경 변수를 읽어들임\n",
    "#   따라서 새로운 환경변수 인지시키기위해 재시작\n",
    "\n",
    "# 3. module 파일을 특정 폴더에 만듬 > module1.py"
   ]
  },
  {
   "cell_type": "code",
   "execution_count": 12,
   "id": "262f1001",
   "metadata": {},
   "outputs": [
    {
     "name": "stdout",
     "output_type": "stream",
     "text": [
      "<class 'module1.MyCar'>\n"
     ]
    }
   ],
   "source": [
    "# module을 불러들여 변수, 함수 , class를 이용\n",
    "import sys # 경로 추가 \n",
    "sys.path.append('/Users/janghyoseong/python.lib')\n",
    "import module1\n",
    "\n",
    "print(module1.MyCar)"
   ]
  },
  {
   "cell_type": "code",
   "execution_count": null,
   "id": "9cb46144",
   "metadata": {},
   "outputs": [],
   "source": [
    "# database: 데이터가 모여있는 데이터의 집합체\n",
    "# Database를 효율적으로 사용하기 위해 프로그램 > DBMS\n",
    "\n",
    "# 정형데이터 VS 비정형데이터\n",
    "# mysql       MongoDB\n",
    "# 사용처가 다름\n",
    "# 정형은 주로 데이터 포맷\n",
    "# 비정형은 SNS"
   ]
  },
  {
   "cell_type": "code",
   "execution_count": null,
   "id": "87654e3e",
   "metadata": {},
   "outputs": [],
   "source": [
    "# mysql 정리\n",
    "# 일단 설치는 homebrew를 이용해서 설치를 했음 ///수업은 5.6 버전\n",
    "# 나는 일단 8.0 버전\n",
    "\n",
    "# 윈도우랑 환경이 조금 다른 거 같은데\n",
    "# mysqld로 서버 기동 (종료는 새로운 터미널에서 )\n",
    "# 새로운 터미널에서\n",
    "# mysql -u root -p 패스워드 입력 후\n",
    "# mysql console로 진입 (prompt가 바뀜)\n",
    "# mysql>\n",
    "\n",
    "# mysql 새로운 사용자 생성 (python이라는 이름/password python)\n",
    "# create user python identified by 'python';\n",
    "# create user python@localhost identified by 'python';\n",
    "\n",
    "# 새로운 데이터베이스 생성\n",
    "# mysql> create database library;\n",
    "\n",
    "# 권한 부여\n",
    "# grant all privileges on library.* to python;\n",
    "# grant all privileges on library.* to python@localhost;\n",
    "\n",
    "# 콘솔 탈출\n",
    "# mysql> exit;\n",
    "\n",
    "# 새로운 사용자로 진입\n",
    "# mysql -u python -p  (password 입력)"
   ]
  },
  {
   "cell_type": "code",
   "execution_count": null,
   "id": "22949565",
   "metadata": {},
   "outputs": [],
   "source": [
    "# Database 사용\n",
    "# SQL(구조적 질의언어) - Structured Query Language\n",
    "# 국제표준언어 - DBms에 따라서 파편화가 되어있는 문제가 조금 있음\n",
    "\n",
    "# SQL을 몰라도 Database를 사용할 수는 있음\n",
    "# ORM(Object Relational Mapping)  > Django를 이용한 웹 프로그래밍 framework에서 orm 사용\n",
    "#     instance  table  \n",
    "\n",
    "# SQL\n",
    "# DDL\n",
    "# DML\n",
    "\n",
    "# SQL을 이용해서 데이터베이스에 어떠한 작업?\n",
    "# 1. Insertion(삽입)\n",
    "# 2. Deletion (삭제)\n",
    "# 3. Update.  (갱신)\n",
    "# 4. Query.   (질의)\n",
    "\n",
    "# CRUD작업 (Create, Read, Update, Delete)\n"
   ]
  }
 ],
 "metadata": {
  "kernelspec": {
   "display_name": "Python [conda env:data_env] *",
   "language": "python",
   "name": "conda-env-data_env-py"
  },
  "language_info": {
   "codemirror_mode": {
    "name": "ipython",
    "version": 3
   },
   "file_extension": ".py",
   "mimetype": "text/x-python",
   "name": "python",
   "nbconvert_exporter": "python",
   "pygments_lexer": "ipython3",
   "version": "3.7.10"
  }
 },
 "nbformat": 4,
 "nbformat_minor": 5
}
