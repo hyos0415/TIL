{
 "cells": [
  {
   "cell_type": "code",
   "execution_count": null,
   "id": "0a025591",
   "metadata": {},
   "outputs": [],
   "source": [
    "# Module\n",
    "\n",
    "# 하나의 python 파일 : module1.py\n",
    "# 현재 우리가 사용하고 있는 파일은 확장자가 .ipynb\n",
    "\n",
    "# module은 변수, function(함수), class를 저장하고 있는 파일이예요\n",
    "# module을 사용하는 이유는 코드의 재 사용성과 관리때문이예요\n",
    "\n",
    "# python의 module은 크게 2가지 종류가 있어요!\n",
    "# 1. C언어로 구현된 module\n",
    "# 2. python언어로 구현된 module ( O )\n",
    "\n",
    "# import keyword\n",
    "# python의 모든것은 객체예요..module도 객체로 인식\n",
    "\n",
    "# 1. module을 만들거예요( 새로운 python source code를 만들꺼예요. )\n",
    "# 2. 약간의 환경설정\n",
    "#    - code상으로 설정하는 방법(1회성)\n",
    "#    - 시스템적으로 환경변수를 이용해서 설정하는 방법(영구적)\n",
    "#      윈도우 시스템의 환경변수를 하나 만들어요 => PYTHONPATH \n",
    "#      윈도우 사용할때 많은 환경변수들이 있는데\n",
    "#      각각의 APPLICATION(프로그램)들은 시작할때 환경변수를 읽어와서 사용\n",
    "#      따라서 새로운 환경변수를 인지시키기 위해 사용하는 프로그램을 재시작해야 해요!\n",
    "\n",
    "# 3. module 파일을 특정폴더에 만들어요! => module1.py\n"
   ]
  },
  {
   "cell_type": "code",
   "execution_count": 1,
   "id": "6556b080",
   "metadata": {},
   "outputs": [
    {
     "name": "stdout",
     "output_type": "stream",
     "text": [
      "3.141592\n",
      "300\n"
     ]
    }
   ],
   "source": [
    "# module을 불러들여서 변수, 함수, class를 이용해 보아요!\n",
    "\n",
    "import module1\n",
    "\n",
    "print(module1.my_PI)\n",
    "print(module1.my_func(100,200))\n",
    "\n",
    "\n",
    "# print(dir(module1))\n",
    "car1 = module1.MyCar('현대',3000)"
   ]
  },
  {
   "cell_type": "code",
   "execution_count": 2,
   "id": "2856b60f",
   "metadata": {},
   "outputs": [
    {
     "name": "stdout",
     "output_type": "stream",
     "text": [
      "3.141592\n",
      "300\n"
     ]
    }
   ],
   "source": [
    "# alias 이용\n",
    "import module1 as m1\n",
    "\n",
    "print(m1.my_PI)\n",
    "print(m1.my_func(100,200))\n",
    "\n",
    "\n",
    "car1 = m1.MyCar('현대',3000)"
   ]
  },
  {
   "cell_type": "code",
   "execution_count": 4,
   "id": "d2f8473d",
   "metadata": {},
   "outputs": [
    {
     "name": "stdout",
     "output_type": "stream",
     "text": [
      "200\n"
     ]
    }
   ],
   "source": [
    "# from 모듈이름 import 함수, 변수, 클래스\n",
    "\n",
    "# from module1 import my_PI\n",
    "\n",
    "# print(my_PI)\n",
    "\n",
    "from module1 import *\n",
    "\n",
    "print(my_func(100,100))"
   ]
  },
  {
   "cell_type": "code",
   "execution_count": 8,
   "id": "d641f82a",
   "metadata": {},
   "outputs": [
    {
     "name": "stdout",
     "output_type": "stream",
     "text": [
      "3.141592\n"
     ]
    }
   ],
   "source": [
    "# 이런방식으로 module을 만들어서 사용하면 편리하고 좋아요!\n",
    "# 그럼 module을 관리하는 입장에서 한번 살펴보아요!\n",
    "# 당연히 module은 계층적으로 관리하는게 좋아요!\n",
    "# 폴더를 계층화시켜서 특정 module을 역할에 맞는 폴더에 넣어서 관리\n",
    "# package : python에서 .(계층구조를 표현)을 이용해서 python module을 관리\n",
    "\n",
    "# import myFolder.myModule.module1\n",
    "\n",
    "# print(myFolder.myModule.module1.my_PI)\n",
    "\n",
    "# import myFolder.myModule.module1 as m1\n",
    "\n",
    "# print(m1.my_PI)\n",
    "\n",
    "from myFolder.myModule import module1\n",
    "\n",
    "print(module1.my_PI)"
   ]
  },
  {
   "cell_type": "code",
   "execution_count": 10,
   "id": "c9b82bfc",
   "metadata": {},
   "outputs": [
    {
     "name": "stdout",
     "output_type": "stream",
     "text": [
      "3.141592\n"
     ]
    }
   ],
   "source": [
    "# module은 외장 module과 내장 module로 구분되요!\n",
    "# 내장 module : python과 함께 설치되는 module(따로 다운로드 할 필요 없어요!)\n",
    "# 외장 module : 외부 Repository에 있는 module(다운로드해서 사용해야 해요!)\n",
    "\n",
    "import sys\n",
    "\n",
    "sys.path.append('C:/python_lib')\n",
    "\n",
    "from myFolder.myModule import module1\n",
    "\n",
    "print(module1.my_PI)"
   ]
  },
  {
   "cell_type": "code",
   "execution_count": null,
   "id": "e82332f9",
   "metadata": {},
   "outputs": [],
   "source": [
    "# MySQL 5.6버전 DBMS 설정\n",
    "\n",
    "# 바탕화면에 압축을 풀어요!\n",
    "\n",
    "# 현재 우리가 사용하는 MySQL DBMS는 압축파일버전으로 제공되는 프로그램이예요\n",
    "# 이 버전은 MySQL을 기동하기 위해 기본적으로 필요한 System Database를 제공합니다.\n",
    "\n",
    "# 1. MySQL DBMS 기동\n",
    "#    cmd창(도스창)을 열고 working directory를 bin으로 이동\n",
    "#    > mysqld \n",
    "#    이용해서 DBMS를 기동(데이터베이스 시스템 서버 시작)해요!\n",
    "\n",
    "# 2. DBMS 종료\n",
    "#    새로운 cmd창(도스창)을 열고 working directory를 bin으로 이동\n",
    "#    > mysqladmin -u root -p shutdown\n",
    "#    이용해서 DBMS를 종료\n",
    "\n",
    "# 3. root 계정은 관리자 계정이기때문에 프로그래밍 용도로는 사용하면 안되요!\n",
    "#    새로운 사용자 계정을 만들어서 사용하고 권한을 부여해야 해요!\n",
    "#    root 계정이 새로운 사용자 계정을 만들어줘야 하고 권한도 부여해 줘야 해요!\n",
    "#    root 계정으로 DBMS에 로그인해야 해요!\n",
    "#    > mysql -u root -p\n",
    "#    root 계정의 password는 현재 없는상태이기 때문에 password입력칸에서 enter!\n",
    "#    MySQL console로 진입\n",
    "#    도스창의 prompot가 바뀌어요!!\n",
    "#    mysql>\n",
    "\n",
    "# 4. MySQL console에 진입한 후\n",
    "#    - 4.1 새로운 사용자를 생성해요(2개)\n",
    "#    mysql> create user python identified by 'python';\n",
    "#    mysql> create user python@localhost identified by 'python';  \n",
    "#    - 4.2 새로운 데이터베이스를 생성해요\n",
    "#    mysql> create database library;\n",
    "#    - 4.3 권한부여(아이디 2개에 대해 각각 권한을 부여)\n",
    "#    mysql> grant all privileges on libray.* to python;\n",
    "#    mysql> grant all privileges on libray.* to python@localhost;\n",
    "\n",
    "# 5. MySQL console에서 빠져나와요!!\n",
    "#    mysql> exit;\n",
    "\n",
    "# 6. 새로운 사용자로 MySQL console에 진입\n",
    "#    > mysql -u python -p\n",
    "\n",
    "\n"
   ]
  }
 ],
 "metadata": {
  "kernelspec": {
   "display_name": "Python [conda env:data_env] *",
   "language": "python",
   "name": "conda-env-data_env-py"
  },
  "language_info": {
   "codemirror_mode": {
    "name": "ipython",
    "version": 3
   },
   "file_extension": ".py",
   "mimetype": "text/x-python",
   "name": "python",
   "nbconvert_exporter": "python",
   "pygments_lexer": "ipython3",
   "version": "3.7.10"
  }
 },
 "nbformat": 4,
 "nbformat_minor": 5
}
