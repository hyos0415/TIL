{
 "cells": [
  {
   "cell_type": "code",
   "execution_count": null,
   "id": "655c0a6c",
   "metadata": {},
   "outputs": [],
   "source": [
    "#python으로 MySQL DB를 가져오기\n",
    "\n",
    "# 사용 모듈 - pymysql 사용\n",
    "# 해당 모듈을 다운로드해서 설치해야함\n",
    "#   > pip 라는 모듈을 이용해서 다운(pip : 설치 지원 모듈)\n",
    "#   > anaconda 환경이므로 anaconda기능으로 모듈 다운,설치\n",
    "# 3. pymysql 설치\n",
    "#   anaconda prompt 실행 후 conda install (package)\n",
    "#   jupyter notebook에서도 설치할 수 있음\n",
    "# !conda install pymysql\n",
    "# 일반 python 환경의 경우 !pip install pymysql"
   ]
  },
  {
   "cell_type": "code",
   "execution_count": 12,
   "id": "ba498ca3",
   "metadata": {},
   "outputs": [
    {
     "name": "stdout",
     "output_type": "stream",
     "text": [
      "<pymysql.connections.Connection object at 0x7fb8d27fd350>\n",
      "[{'btitle': 'The Art of Computer Programming 4A 컴퓨터 프로그래밍의 예술: 조합적 알고리즘 1부', 'bauthor': '도널드 커누스(DONALD E. KNUTH)', 'bprice': 55000}, {'btitle': 'PMP 바이블 : PMP 자격증 취득의 길로 안내하는 가장 확실한 지침서 (전2권 세트)', 'bauthor': '강정배, 서정훈, 이지현, 박주진', 'bprice': 60000}, {'btitle': 'IT EXPERT, 64비트 멀티코어 OS 원리와 구조 1권: OS 개발 60일 프로젝트', 'bauthor': '한승훈', 'bprice': 55000}, {'btitle': 'IT EXPERT, 64비트 멀티코어 OS 원리와 구조 2권: OS 개발 60일 프로젝트', 'bauthor': '한승훈', 'bprice': 55000}]\n",
      "제목 : The Art of Computer Programming 4A 컴퓨터 프로그래밍의 예술: 조합적 알고리즘 1부, 저자 : 도널드 커누스(DONALD E. KNUTH)\n",
      "제목 : PMP 바이블 : PMP 자격증 취득의 길로 안내하는 가장 확실한 지침서 (전2권 세트), 저자 : 강정배, 서정훈, 이지현, 박주진\n",
      "제목 : IT EXPERT, 64비트 멀티코어 OS 원리와 구조 1권: OS 개발 60일 프로젝트, 저자 : 한승훈\n",
      "제목 : IT EXPERT, 64비트 멀티코어 OS 원리와 구조 2권: OS 개발 60일 프로젝트, 저자 : 한승훈\n"
     ]
    }
   ],
   "source": [
    "# 필요한 모듈 import\n",
    "import pymysql.cursors\n",
    "\n",
    "# 데이터베이스 connection이 필요!\n",
    "# 내가 사용하려는 Database에 대한 논리적인 연결 객체가 필요.\n",
    "\n",
    "# 접속에 대한 정보를 인자로 넘겨야 함\n",
    "conn = pymysql.connect(host='localhost',\n",
    "                       db='library',\n",
    "                       user='python',\n",
    "                       password='python',\n",
    "                       charset='utf8')\n",
    "# 접속이 성공하면 instance가 생성되고 그렇지 않으면 None\n",
    "\n",
    "print(conn)\n",
    "\n",
    "# cursor 객체를 생성해야함\n",
    "#cursor = conn.cursor() # 이렇게 만들면 결과 tuple\n",
    "cursor = conn.cursor(pymysql.cursors.DictCursor)\n",
    "\n",
    "# SQL 구문\n",
    "sql = 'SELECT btitle, bauthor, bprice FROM book WHERE bprice> 50000;'\n",
    "\n",
    "# 생성한 SQL 문장을 cursor를 통해서 실행\n",
    "cursor.execute(sql)\n",
    "\n",
    "# fetch계열의 함수를 이용해서 결과를 ㅣ용해서 결과를 cursor로 부터 가져옴\n",
    "result = cursor.fetchall()\n",
    "\n",
    "print(result)\n",
    "\n",
    "for bookDict in result:\n",
    "    print('제목 : {}, 저자 : {}'.format(bookDict['btitle'],bookDict['bauthor']))"
   ]
  },
  {
   "cell_type": "code",
   "execution_count": 22,
   "id": "8008c615",
   "metadata": {},
   "outputs": [
    {
     "name": "stdout",
     "output_type": "stream",
     "text": [
      "검색키워드 : 여행\n",
      "[{'btitle': 'IT CookBook, C++ 하이킹 : 객체지향과 만나는 여행', 'bauthor': '성윤정, 김태은'}, {'btitle': '게스트하우스 창업 A to Z : 청춘여행자의 낭만적 밥벌이', 'bauthor': '김아람'}, {'btitle': '크로아티아의 작은 마을을 여행하다 : 자다르의 일몰부터 두브로브니크의 붉은 성벽까지', 'bauthor': '양미석'}, {'btitle': '도쿄의 오래된 상점을 여행하다 : 소세키의 당고집부터 백 년 된 여관까지', 'bauthor': '여지영, 이진숙'}]\n",
      "제목 : IT CookBook, C++ 하이킹 : 객체지향과 만나는 여행, 저자 : 성윤정, 김태은\n",
      "제목 : 게스트하우스 창업 A to Z : 청춘여행자의 낭만적 밥벌이, 저자 : 김아람\n",
      "제목 : 크로아티아의 작은 마을을 여행하다 : 자다르의 일몰부터 두브로브니크의 붉은 성벽까지, 저자 : 양미석\n",
      "제목 : 도쿄의 오래된 상점을 여행하다 : 소세키의 당고집부터 백 년 된 여관까지, 저자 : 여지영, 이진숙\n"
     ]
    }
   ],
   "source": [
    "# 키워드를 입력받아서 해당 키워드를 책 제목에 포함하는 책을 검색한 후\n",
    "# 책의 제목과 저자를 출력하세요\n",
    "import pymysql\n",
    "\n",
    "search_keyword = input(\"검색키워드 : \")\n",
    "\n",
    "sql = \"SELECT btitle, bauthor FROM book WHERE btitle LIKE '%{}%'\".format(search_keyword);\n",
    "\n",
    "\n",
    "#print(sql) \n",
    "# %는 와일드카드 중 하나로 %{}는 {} 앞에 0개 이상의 문자열이 존재\n",
    "# ?는 1개 이상 \n",
    "cursor.execute(sql)\n",
    "result = cursor.fetchall()\n",
    "\n",
    "print(result)\n",
    "\n",
    "for bookDict in result:\n",
    "    print('제목 : {}, 저자 : {}'.format(bookDict['btitle'],bookDict['bauthor']))"
   ]
  },
  {
   "cell_type": "code",
   "execution_count": 27,
   "id": "e7cae7f6",
   "metadata": {
    "scrolled": true
   },
   "outputs": [
    {
     "name": "stdout",
     "output_type": "stream",
     "text": [
      "오류의 여부와 상관 없이 무조건 실행\n",
      "Hello World\n"
     ]
    }
   ],
   "source": [
    "# python의 Exception Handling (예외처리)\n",
    "\n",
    "# 일반적으로 programming 언어에서 Error, Exception\n",
    "# Error : 복구가 불가능한 예외적인 상황 > 프로그램 실행이 중지\n",
    "# Exception : 복구가 가능한 오류 상태 > 지속적 수행이 가능\n",
    "\n",
    "try:\n",
    "    a = 100/ 90\n",
    "    \n",
    "except ZeroDivisionError:\n",
    "    print(\"0으로 나눌 수 없어요!\")\n",
    "    # 예외처리코드 - 오류를 극복해서 프로그램이 강제종료 X\n",
    "    # 대부분 수정 코드를 넣음\n",
    "finally:\n",
    "    print('오류의 여부와 상관 없이 무조건 실행')\n",
    "    \n",
    "\n",
    "print(\"Hello World\")\n",
    "\n",
    "\n",
    "# 일반적으로 try 구문이 강제되는 코드들이 있음"
   ]
  },
  {
   "cell_type": "code",
   "execution_count": 32,
   "id": "894cc70c",
   "metadata": {
    "scrolled": false
   },
   "outputs": [
    {
     "name": "stdout",
     "output_type": "stream",
     "text": [
      "Ronaldo 5\n",
      "\n",
      "Schick 5\n",
      "\n",
      "Zoomer 4\n",
      "\n",
      "Kane 3\n",
      "\n",
      "Immobile 2\n",
      "\n"
     ]
    }
   ],
   "source": [
    "# 파이썬의 파일처리\n",
    "# 실제로 파이썬의 순수 파일처리 기능은 사용하지 않음\n",
    "# 너무 느림, 대용량 처리에 적합하지 않음\n",
    "\n",
    "# 파이썬 모듈 중 pandas 모듈을 이용해 file 처리\n",
    "\n",
    "# 예제\n",
    "\n",
    "file1 = open('my_student.txt','r')\n",
    "\n",
    "while True:\n",
    "    line = file1.readline() # 1줄 읽어옴\n",
    "    print(line)\n",
    "    if not line:\n",
    "        break\n",
    "        \n",
    "file1.close()"
   ]
  },
  {
   "cell_type": "code",
   "execution_count": null,
   "id": "87f30a8e",
   "metadata": {},
   "outputs": [],
   "source": [
    "#HTML (HyperText Markup Language)\n",
    "\n",
    "#태그언어라고 불리는 프로그래밍 언어\n",
    "\n",
    "#HTML 파일을 만들고 Web Browser가 불러들여 렌더링(Rendering) > Web page\n",
    "#HTML이라는 태그언어는 태그로 구성\n",
    "#단일태그, 쌍을 이루는 태그 두 종류\n",
    "#<br> < 단일 태그\n",
    "# <html lang = ko> ~~~ </html> : 여는 태그 ~~ 닫는 태그 : Element\n",
    "\n",
    "# html : tag 명\n",
    "# lang : attribute(속성) 속성은 하나의 태그에 여러개 나올 수 있음\n",
    "# HTML tag\n",
    "\n"
   ]
  }
 ],
 "metadata": {
  "kernelspec": {
   "display_name": "Python [conda env:data_env] *",
   "language": "python",
   "name": "conda-env-data_env-py"
  },
  "language_info": {
   "codemirror_mode": {
    "name": "ipython",
    "version": 3
   },
   "file_extension": ".py",
   "mimetype": "text/x-python",
   "name": "python",
   "nbconvert_exporter": "python",
   "pygments_lexer": "ipython3",
   "version": "3.7.10"
  }
 },
 "nbformat": 4,
 "nbformat_minor": 5
}
