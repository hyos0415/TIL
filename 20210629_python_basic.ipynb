{
 "cells": [
  {
   "cell_type": "code",
   "execution_count": 6,
   "id": "863c80ad",
   "metadata": {
    "scrolled": true
   },
   "outputs": [
    {
     "name": "stdout",
     "output_type": "stream",
     "text": [
      "졸리다\n"
     ]
    }
   ],
   "source": [
    "print('졸리다')"
   ]
  },
  {
   "cell_type": "code",
   "execution_count": null,
   "id": "13c121bb",
   "metadata": {},
   "outputs": [],
   "source": [
    "# 1. 주석\n",
    "'''\n",
    "파이썬 빌트인 데이터 타입\n",
    "\n",
    "1. Numeric(숫자형)\n",
    "    정수(int), 실수(float), 복소수(complex)\n",
    "    a = 123\n",
    "    b= 3.141592\n",
    "    c= 3.14E2 [지수표현]\n",
    "    \n",
    "    \n",
    "2. Sequence\n",
    "3. Text Sequence\n",
    "4. Mapping\n",
    "5. Set\n",
    "6. Bool\n",
    "\n",
    "type() 해당 데이터가 어떤 class의 instance인지 알려주는 함수\n",
    "result = 3/4 피연사자 / 피연산자 = 결과 (일반적으로 피연산자와 같은 타입) 파이썬에서는 예외 즉 일반 연산과 유사함(3.xx 이상)\n",
    "\n",
    "result = 3 ** 4 - **지수표현\n",
    "\n",
    "result = 10 % 3 - % 모듈러 연산자: 나머지 계산\n",
    "\n",
    "result = 10 // 3 - // 몫 부분\n",
    "\n",
    "\n",
    "'''"
   ]
  },
  {
   "cell_type": "code",
   "execution_count": 16,
   "id": "68482b25",
   "metadata": {},
   "outputs": [
    {
     "name": "stdout",
     "output_type": "stream",
     "text": [
      "[1, 3.14, 'hello', True, [False, 100]]\n",
      "[False, 100]\n",
      "930\n",
      "[1, 3.14, 930]\n",
      "[930, True, [False, 100]]\n"
     ]
    }
   ],
   "source": [
    "'''\n",
    "    2. Sequence\n",
    "    \n",
    "    list\n",
    "    임의의 객체를 순서대로 저장하는 집합 자료형\n",
    "    index를 이용해서 위치를 지정할 수 있음\n",
    "    (index는 0 부터 시작함)\n",
    "    list는 Literal 표현 : 코드 상 표현\n",
    "    [] (대괄호)\n",
    "        \n",
    "'''\n",
    "\n",
    "a = [] # (empty list) Literal\n",
    "a = list() # 빈 리스트를 만듬 함수 표현 빈 리스트 만들 때는 함수 선호\n",
    "\n",
    "a = [1, 2, 3] \n",
    "# 리스트 내에 동일한 타입을 사용하지 않아도 괜찮음\n",
    "\n",
    "a = [1, 3.14, '홍길동', True]\n",
    "#중첩 어레이 가능\n",
    "\n",
    "a = [1, 3.14, 'hello', True, [False, 100]]\n",
    "\n",
    "print(a)\n",
    "print(a[4]) #인덱스를 이용해서 원하는 위치의 값을 알아내거나 사용\n",
    "a[2] = 930\n",
    "print(a[2])\n",
    "\n",
    "#-index\n",
    "#a = [1(0/-5), 2(1/-4), 3(2/-3), 4(3/-2), 5(4/-1)]\n",
    "\n",
    "#slicing => 슬라이싱의 결과는 원래 데이터 타입과 동일\n",
    "#0부터 2까지 (앞은 포함(inculusive 뒤는 미포함(exclusive)\n",
    "print(a[0:3])\n",
    "\n",
    "#a[2:](2부터 리스트 끝까지)\n",
    "\n",
    "print(a[2:])\n",
    "#a[:3](처음부터 3 전까지 (3미포함))\n",
    "#a[:] (처음부터 끝까지)\n"
   ]
  }
 ],
 "metadata": {
  "kernelspec": {
   "display_name": "Python [conda env:data_env] *",
   "language": "python",
   "name": "conda-env-data_env-py"
  },
  "language_info": {
   "codemirror_mode": {
    "name": "ipython",
    "version": 3
   },
   "file_extension": ".py",
   "mimetype": "text/x-python",
   "name": "python",
   "nbconvert_exporter": "python",
   "pygments_lexer": "ipython3",
   "version": "3.7.10"
  }
 },
 "nbformat": 4,
 "nbformat_minor": 5
}
