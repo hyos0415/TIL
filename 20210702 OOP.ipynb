{
 "cells": [
  {
   "cell_type": "code",
   "execution_count": 8,
   "id": "dc1475de",
   "metadata": {},
   "outputs": [
    {
     "name": "stdout",
     "output_type": "stream",
     "text": [
      "[<__main__.Player object at 0x7f8e520f1610>]\n"
     ]
    }
   ],
   "source": [
    "# 객체 지향 방식\n",
    "# 유지보수성: 프로그램을 수정하고 코드의 재활용이 유리\n",
    "# 프로그램을 분석, 설계, 구현이 어려움(절차적 언어에 비해)\n",
    "# 대표적인 언어: Java, C++, C#\n",
    "# 프로그램을 만드는 기본적인 생각\n",
    "# 내가 해결해야하는 현실의 문제를 그대로 프로그램으로 표현\n",
    "# 현실 세계에서 발생하는 여러가지 수정요소들을 프로그램적으로 역시 쉽게 수정 가능\n",
    "# 프로그램을 기능으로 세분화 하지 않음!\n",
    "# 프로그램을 구성하는 주체를 파악하고 이 주체들 간의 Data의 흐름\n",
    "\n",
    "# 설계하는 사람마다 구성하는 주체를 다르게 생각하므로\n",
    "# 현실세계에서 문제를 구성하고 있는 구성요소 > 개체(object)\n",
    "# 프로그램적으로 문제를 구성하고 있는 구성요소 > 객체(object)\n",
    "\n",
    "# 프로그램적으로 표헌하기 위한 방법 > class\n",
    "# class > 1. 객체 모델링의 수단\n",
    "# 학생(대학생)이라는 개념을 프로그램적으로 모델링\n",
    "# 샹태값과행위로 모델링 기준으로 삼음\n",
    "# 학생의 경우 상태(학년, 학번, 재학/휴학, 학교, 이름...) => 변수\n",
    "# 상태 > 변수(instance variable)/(자바:field)/(C++:member variable)\n",
    "# 행위 (수업을 듣다, 수강 신청하다, 공부하다, 시험을 보다...)\n",
    "# 행위 > 함수(method)\n",
    "\n",
    "class Player(object):\n",
    "    \n",
    "    def __init__(self, name, position, birth, backnumver):\n",
    "        # name, dept, num, grade는 local variable \n",
    "        # stack에 임시 저장\n",
    "        # instance variable은 heap에 저장\n",
    "        # self를 제외한 인자로 사용됨\n",
    "        self.name = name\n",
    "        self.position = position\n",
    "        self.birth = birth\n",
    "        self.backnumver = backnumver\n",
    "        #self 생성된 인스턴스를 레퍼런스\n",
    "        \n",
    "# class를 기반으로 instance(object)생성\n",
    "player_1 = Player(\"paul\",\"PG\",\"1985\",13)\n",
    "player_2 = Player(\"booker\",\"sG\",\"1996\",1)\n",
    "player_3 = Player(\"young\",\"PG\",\"1998\",11)\n",
    "\n",
    "# 자료구조관점에서 클래스(여러개를 모아서 새로운 타입에 데이터 타입생성)\n",
    "# ADT(Abstract Data Type)\n",
    "\n",
    "# class란?\n",
    "# 1. 객체 모델링의 수단\n",
    "# 2. instance를 만들어내는 수단\n",
    "# 3. ADT\n",
    "\n",
    "players = []\n",
    "players.append(Player(\"paul\",\"PG\",\"1985\",13))\n",
    "print(players)\n",
    "\n",
    "# 파이썬은 하위 호완성이 없음\n",
    "# 2.x버전, 3.x 버전의 호환성이 없음\n",
    "# 3.x부터 객체지향 근간으로 디자인됨"
   ]
  },
  {
   "cell_type": "code",
   "execution_count": 14,
   "id": "aa2039ff",
   "metadata": {},
   "outputs": [
    {
     "name": "stdout",
     "output_type": "stream",
     "text": [
      "Paul\n",
      "Ramos Suns\n"
     ]
    }
   ],
   "source": [
    "#파이썬은 객체지향 언어. 추가적으로 함수적 프로그래밍 가능\n",
    "# 숫자, 리스트, 튜플... 다 클래스\n",
    "\n",
    "#객체는 클래스로부터 파생\n",
    "#클래스 안에는 상태(변수), 행위(함수)\n",
    "#객체도 변수(property), 함수(method)\n",
    "\n",
    "class Student(object):\n",
    "    \n",
    "    \n",
    "    schoalship_rate = 3.5.   #property, class variable\n",
    "    \n",
    "    # method(정해져있는 특별한 일을 하는 method)\n",
    "    def __init__(self, name, dept): \n",
    "        self.name = name    #self.name : property, instance variable\n",
    "        self.dept = dept\n",
    "        \n",
    "    # method    \n",
    "    def get_student_info(self):  #method, instace method\n",
    "        print(self.name, self.dept)\n",
    "        \n",
    "    def set_stu_name(self, name):\n",
    "        self.name = name\n",
    "        \n",
    "stu1 = Student('Paul',\"Suns\")\n",
    "print(stu1.name)          #property 제어\n",
    "                          #property를 외부에서 변경하는 행위는 객체지향 측면에서 오류가 발생할 여지가 많기에 바람직하지 않음\n",
    "stu1.set_stu_name('Ramos')\n",
    "stu1.get_student_info()   #method 호출"
   ]
  },
  {
   "cell_type": "code",
   "execution_count": 15,
   "id": "f25c2245",
   "metadata": {},
   "outputs": [
    {
     "name": "stdout",
     "output_type": "stream",
     "text": [
      "['__class__', '__delattr__', '__dict__', '__dir__', '__doc__', '__eq__', '__format__', '__ge__', '__getattribute__', '__gt__', '__hash__', '__init__', '__init_subclass__', '__le__', '__lt__', '__module__', '__ne__', '__new__', '__reduce__', '__reduce_ex__', '__repr__', '__setattr__', '__sizeof__', '__str__', '__subclasshook__', '__weakref__', 'dept', 'get_student_info', 'name', 'set_stu_name']\n"
     ]
    }
   ],
   "source": [
    "# dir() : 객체가 가지고 있는 property와 method를 알려줘요!\n",
    "\n",
    "print(dir(stu1))"
   ]
  },
  {
   "cell_type": "code",
   "execution_count": 17,
   "id": "8d8ecc71",
   "metadata": {},
   "outputs": [
    {
     "name": "stdout",
     "output_type": "stream",
     "text": [
      "서울\n"
     ]
    }
   ],
   "source": [
    "# 객체지향면에서 잘 맞지 않는 부분들도 있음\n",
    "\n",
    "# 당연히 class안에 존재하는 property와 method만 이용할 수 있음\n",
    "stu1.address = \"서울\"  #객체지향관점에서는 당연히 오류,허용X\n",
    "                      #프로그래밍에 유연성을 확보하기위해 \n",
    "                      #동적 property, method 허용\n",
    "print(stu1.address)   #임시로? 저장하는듯\n",
    "\n",
    "#__init__: 객체가 생성될 때 자동으로 호출되고 instance를 self라는 인자로 받아서\n",
    "#          일반적으로 property를 초기화 할 때 사용되요!\n",
    "#          => 다른 언어의 constructor(생성자) 역할\n",
    "#          python에서는 initializer 라고 함\n",
    "\n",
    "# class 내부에 property와 method가 존재하게 되는데\n",
    "# property 는 크게 instance variable/class variable\n",
    "# self.~~~ 대부분 instance variable\n",
    "# class variable은 class 구조 내에 method와 동일한 레벨에서 나오는 property\n",
    "# self를 인자로 받으면 대부분 instance method임"
   ]
  },
  {
   "cell_type": "code",
   "execution_count": 13,
   "id": "b370332f",
   "metadata": {},
   "outputs": [],
   "source": [
    "## 문제 4.\n",
    "## 어떤 수를 소수의 곱으로만 나타내는 것을 소인수분해라 하고, \n",
    "## 이 소수들을 그 수의 소인수라고 합니다.\n",
    "## 예를 들면 13195의 소인수는 5, 7, 13, 29 입니다.\n",
    "\n",
    "## 600851475143의 소인수 중에서 가장 큰 수를 구하세요.\n",
    "#number = 600851475143\n",
    "#for i in range(2,number+1):\n",
    "#    while(number%i==0):\n",
    "#        number /=i\n",
    "#        print(i)\n",
    "#        i+=1\n",
    "\n",
    "    \n",
    "\n",
    "## 문제 5.\n",
    "## 앞에서부터 읽을 때나 뒤에서부터 읽을 때나 모양이 \n",
    "## 같은 수를 대칭수(palindrome)라고 부릅니다.\n",
    "\n",
    "## 두 자리 수를 곱해 만들 수 있는 대칭수 중 \n",
    "## 가장 큰 수는 9009 (= 91 × 99) 입니다.\n",
    "\n",
    "## 세 자리 수를 곱해 만들 수 있는 가장 큰 대칭수를 구하세요\n",
    "palindrome=[]\n",
    "for i in range(999,99,-1):\n",
    "    for j in range(999,99,-1):\n",
    "        if str(i*j)== reversed(str(i*j)):\n",
    "            print(i*j)\n",
    "                \n",
    "                \n",
    "                \n",
    "                \n",
    "        \n",
    "\n",
    "\n",
    "\n",
    "## 문제 6.\n",
    "## 1 ~ 10 사이의 어떤 수로도 나누어 떨어지는 가장 작은 수는 2520입니다.\n",
    "   \n",
    "## 그러면 1 ~ 20 사이의 어떤 수로도 나누어 떨어지는 가장 작은수는얼마입니까?"
   ]
  },
  {
   "cell_type": "code",
   "execution_count": null,
   "id": "2fb69a3d",
   "metadata": {
    "scrolled": true
   },
   "outputs": [
    {
     "name": "stdout",
     "output_type": "stream",
     "text": [
      "71\n",
      "839\n",
      "1471\n",
      "6857\n"
     ]
    }
   ],
   "source": [
    "number = 600851475143\n",
    "for i in range(2,number+1):\n",
    "    while(number%i==0):\n",
    "        number /=i\n",
    "        print(i)\n",
    "        i+=1\n",
    "        "
   ]
  },
  {
   "cell_type": "code",
   "execution_count": 30,
   "id": "aa81e59d",
   "metadata": {},
   "outputs": [
    {
     "name": "stdout",
     "output_type": "stream",
     "text": [
      "906609\n"
     ]
    }
   ],
   "source": [
    "max_palindrome = 0\n",
    "for i in range(999,99,-1):\n",
    "    for j in range(999,99,-1):\n",
    "        if str(i*j)== str(i*j)[::-1]:\n",
    "            if max_palindrome < i*j:\n",
    "                max_palindrome = i*j\n",
    "                \n",
    "print(max_palindrome)            \n",
    "                \n",
    "                \n",
    "                "
   ]
  },
  {
   "cell_type": "code",
   "execution_count": 29,
   "id": "a9f44e74",
   "metadata": {
    "scrolled": true
   },
   "outputs": [
    {
     "name": "stdout",
     "output_type": "stream",
     "text": [
      "995X583=580085\n",
      "993X913=906609\n"
     ]
    }
   ],
   "source": [
    "max_palindrome = 0\n",
    "for i in range(999,99,-1):\n",
    "    for j in range(999,99,-1):\n",
    "        if str(i*j)== str(i*j)[::-1]:\n",
    "            if max_palindrome < i*j:\n",
    "                max_palindrome = i*j\n",
    "                print(\"{}X{}={}\".format(i,j,max_palindrome))    "
   ]
  },
  {
   "cell_type": "code",
   "execution_count": 36,
   "id": "430110bd",
   "metadata": {},
   "outputs": [
    {
     "name": "stdout",
     "output_type": "stream",
     "text": [
      "[2, 3, 5, 7, 11, 13, 17, 19]\n",
      "232792560\n"
     ]
    }
   ],
   "source": [
    "## 문제 6.\n",
    "## 1 ~ 10 사이의 어떤 수로도 나누어 떨어지는 가장 작은 수는 2520입니다.\n",
    "   \n",
    "## 그러면 1 ~ 20 사이의 어떤 수로도 나누어 떨어지는 가장 작은수는얼마입니까?\n",
    "\n",
    "lcm_list=[2]\n",
    "for i in range(3,20):   \n",
    "    for j in range(2,i):   \n",
    "        if i%j==0:\n",
    "            break\n",
    "        elif j==i-1:\n",
    "            lcm_list.append(i)\n",
    "print(lcm_list)\n",
    "\n",
    "ans=1        \n",
    "for i in lcm_list:\n",
    "    while 1:\n",
    "        if i*i>20:\n",
    "            ans*=i\n",
    "            break\n",
    "        i*=i\n",
    "\n",
    "print(ans)\n"
   ]
  }
 ],
 "metadata": {
  "kernelspec": {
   "display_name": "Python [conda env:data_env] *",
   "language": "python",
   "name": "conda-env-data_env-py"
  },
  "language_info": {
   "codemirror_mode": {
    "name": "ipython",
    "version": 3
   },
   "file_extension": ".py",
   "mimetype": "text/x-python",
   "name": "python",
   "nbconvert_exporter": "python",
   "pygments_lexer": "ipython3",
   "version": "3.7.10"
  }
 },
 "nbformat": 4,
 "nbformat_minor": 5
}
