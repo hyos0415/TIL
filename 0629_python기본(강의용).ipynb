{
 "cells": [
  {
   "cell_type": "code",
   "execution_count": null,
   "id": "9e0c617a",
   "metadata": {},
   "outputs": [],
   "source": [
    "# python의 특징\n",
    "\n",
    "# 쉽고 간결해요!!\n",
    "# 데이터분석에 유용한 라이브러리가 많아요!\n",
    "# 무료(Open Source)\n",
    "# R에 비해서 범용적인 언어\n",
    "# 현재 가장 인기있는 언어!\n",
    "# 주의) 하위호환성이 없어요!\n",
    "#       2.x 버전과 3.x버전이 호환성이 없어요!"
   ]
  },
  {
   "cell_type": "code",
   "execution_count": 7,
   "id": "a00451f9",
   "metadata": {},
   "outputs": [
    {
     "name": "stdout",
     "output_type": "stream",
     "text": [
      "aa\n"
     ]
    }
   ],
   "source": [
    "# python language spec\n",
    "\n",
    "# 1. 주석\n",
    "#    1줄 주석과 여러줄 주석이 있어요!\n",
    "#    1줄 주석 : #\n",
    "#   여러줄 주석 : '''     '''\n",
    "\n",
    "'''\n",
    "여러줄 주석은 \n",
    "이렇게 표현할 수 있어요!!\n",
    "'''"
   ]
  },
  {
   "cell_type": "code",
   "execution_count": 9,
   "id": "cc719852",
   "metadata": {},
   "outputs": [
    {
     "name": "stdout",
     "output_type": "stream",
     "text": [
      "100\n"
     ]
    },
    {
     "ename": "NameError",
     "evalue": "name 'a' is not defined",
     "output_type": "error",
     "traceback": [
      "\u001b[1;31m---------------------------------------------------------------------------\u001b[0m",
      "\u001b[1;31mNameError\u001b[0m                                 Traceback (most recent call last)",
      "\u001b[1;32m<ipython-input-9-52ccb8a119c5>\u001b[0m in \u001b[0;36m<module>\u001b[1;34m\u001b[0m\n\u001b[0;32m      3\u001b[0m \u001b[0mprint\u001b[0m\u001b[1;33m(\u001b[0m\u001b[0ma\u001b[0m\u001b[1;33m)\u001b[0m\u001b[1;33m\u001b[0m\u001b[1;33m\u001b[0m\u001b[0m\n\u001b[0;32m      4\u001b[0m \u001b[1;32mdel\u001b[0m \u001b[0ma\u001b[0m\u001b[1;33m\u001b[0m\u001b[1;33m\u001b[0m\u001b[0m\n\u001b[1;32m----> 5\u001b[1;33m \u001b[0mprint\u001b[0m\u001b[1;33m(\u001b[0m\u001b[0ma\u001b[0m\u001b[1;33m)\u001b[0m  \u001b[1;31m# Error 발생\u001b[0m\u001b[1;33m\u001b[0m\u001b[1;33m\u001b[0m\u001b[0m\n\u001b[0m",
      "\u001b[1;31mNameError\u001b[0m: name 'a' is not defined"
     ]
    }
   ],
   "source": [
    "# 변수의 생성과 삭제\n",
    "a = 100\n",
    "print(a)\n",
    "del a\n",
    "print(a)  # Error 발생"
   ]
  },
  {
   "cell_type": "code",
   "execution_count": 10,
   "id": "5f4be34f",
   "metadata": {},
   "outputs": [],
   "source": [
    "# 데이터 타입!\n",
    "\n",
    "# python built-in data type\n",
    "\n",
    "# 1. Numeric(숫자형)     \n",
    "# 2. Sequence\n",
    "# 3. Text Sequence\n",
    "# 4. Mapping\n",
    "# 5. Set\n",
    "# 6. Bool\n"
   ]
  },
  {
   "cell_type": "code",
   "execution_count": 17,
   "id": "2b177ed4",
   "metadata": {},
   "outputs": [
    {
     "name": "stdout",
     "output_type": "stream",
     "text": [
      "<class 'int'>\n",
      "<class 'float'>\n",
      "0.75\n",
      "81\n",
      "1\n",
      "3\n"
     ]
    }
   ],
   "source": [
    "# 1. Numeric Data Type\n",
    "\n",
    "# 정수(int), 실수(float), 복소수(complex)\n",
    "a = 123\n",
    "b = 3.141592\n",
    "c = 3.14E2   # 지수표현\n",
    "\n",
    "# type()   # 해당 데이터가 어떤 class의 instance인지를 알려주는 함수\n",
    "print(type(a))   # <class 'int'>\n",
    "print(type(b))   # <class 'float'>\n",
    "\n",
    "result = 3 / 4  \n",
    "print(result)   # 0.75\n",
    "\n",
    "result = 3 ** 4\n",
    "print(result)   # 81\n",
    "\n",
    "result = 10 % 3\n",
    "print(result)   # 1\n",
    "\n",
    "result = 10 // 3\n",
    "print(result)   # 3"
   ]
  },
  {
   "cell_type": "code",
   "execution_count": 31,
   "id": "864f2bdf",
   "metadata": {},
   "outputs": [
    {
     "name": "stdout",
     "output_type": "stream",
     "text": [
      "[1, 3.14, ['Hello', 5], 100]\n",
      "1\n",
      "100\n",
      "[1, 3.14, ['Hello', 5], 200]\n",
      "['Hello', 5]\n",
      "5\n",
      "[1, 3.14, ['Hello', 5], 200]\n",
      "[1, 3.14]\n",
      "[1]\n",
      "[['Hello', 5], 200]\n",
      "[1, 3.14, ['Hello', 5]]\n",
      "[1, 3.14, ['Hello', 5], 200]\n"
     ]
    }
   ],
   "source": [
    "# 2. Sequence\n",
    "\n",
    "# list\n",
    "# 임의의 데이터를 순서대로 저장하는 집합 자료형\n",
    "# index를 이용해서 위치를 지정할 수 있어요!\n",
    "  # index는 0부터 시작해요!\n",
    "# list의 literal 표현 : [ ] (대괄호)    \n",
    "\n",
    "a = [] # (empty list)\n",
    "a = list()  # 빈 리스트를 만들어요!\n",
    "\n",
    "a = [1, 2, 3]   \n",
    "a = [1, 3.14, '홍길동', True]\n",
    "a = [1, 3.14, ['Hello', 5], 100]\n",
    "\n",
    "print(a)    # [1, 3.14, ['Hello', 5], 100]\n",
    "print(a[0]) # 1\n",
    "print(a[3]) # 100\n",
    "a[3] = 200\n",
    "print(a)      # [1, 3.14, ['Hello', 5], 200]\n",
    "print(a[-2])  # ['Hello', 5]\n",
    "print(a[-2][1]) # 5\n",
    "###### indexing ########\n",
    "\n",
    "# slicing #   => 슬라이싱의 결과는 원래 데이터 타입과 동일\n",
    "print(a)      # [1, 3.14, ['Hello', 5], 200]\n",
    "print(a[0:2])  # 0부터 2까지(앞은 inclusive 뒤는 exclusive)\n",
    "               # 앞은 포함, 뒤는 불포함\n",
    "               # [1, 3.14]\n",
    "print(a[0:1])  # [1]\n",
    "print(a[2:])   # [['Hello', 5], 200]]\n",
    "print(a[:3])   # [1, 3.14, ['Hello', 5]]\n",
    "print(a[:])    # [1, 3.14, ['Hello', 5], 200]"
   ]
  }
 ],
 "metadata": {
  "kernelspec": {
   "display_name": "Python [conda env:data_env] *",
   "language": "python",
   "name": "conda-env-data_env-py"
  },
  "language_info": {
   "codemirror_mode": {
    "name": "ipython",
    "version": 3
   },
   "file_extension": ".py",
   "mimetype": "text/x-python",
   "name": "python",
   "nbconvert_exporter": "python",
   "pygments_lexer": "ipython3",
   "version": "3.7.10"
  }
 },
 "nbformat": 4,
 "nbformat_minor": 5
}
