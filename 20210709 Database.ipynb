{
 "cells": [
  {
   "cell_type": "code",
   "execution_count": null,
   "id": "587b7b30",
   "metadata": {},
   "outputs": [],
   "source": [
    "# DBMS를 사용해야 하기 때문에\n",
    "# MySQL 먼저 기동"
   ]
  },
  {
   "cell_type": "code",
   "execution_count": null,
   "id": "0517f364",
   "metadata": {},
   "outputs": [],
   "source": [
    "# SQL도 프로그래밍 언어  (Database에 대한 프로그래밍 언어)\n",
    "# 대소문자 구분하지 않음 (키워드에 대해서)\n",
    "# - 관용적으로 키워드는 대문자 사\n",
    "#문자열은 VARCHAR 가변문자(datatype)(MySQL)  Varchar(Oracle)\n",
    "# INT\n",
    "# 공백을 허용하지않기위해 NOT NULL(컬럼에대하여)\n",
    "# unique 컬럼에 대해서 같은 값을 허용하지 않\n",
    "# PRIMARY KEY = NOT NULL + UNIQUE (테이블당 하나의 컬럼만 허용)\n",
    "# 프라이머리 키로 설정된 컬럼안의 하나의 값은\n",
    "# 해당 테이블 내에서 레코드를 유일하게 식별할 수 있\n",
    "# FOREIGN KEY : 다른 테이블에 있는 프라이머리 키를 활용할 때 포린 키 지\n",
    "# 포린 키 컨스트렌트: 프라이머리키 에 없는 값이 입력될 수 없\n",
    "\n",
    "\n",
    "#CREATE TABLE student (# 테이블 생성구문\n",
    "    #num \n",
    "    #name  VARCHAR(20)#(최대 길이)\n",
    "#);\n",
    "    \n",
    "    \n",
    "#DROP TABLE student # 테이블 삭제구문\n",
    "\n",
    "#-- record 삭제\n",
    "\n",
    "#DELETE FROM student \n",
    "\n",
    "# COMMIT 의 필요성\n",
    "# Transaction(트랜젝션) 처리"
   ]
  }
 ],
 "metadata": {
  "kernelspec": {
   "display_name": "Python [conda env:data_env] *",
   "language": "python",
   "name": "conda-env-data_env-py"
  },
  "language_info": {
   "codemirror_mode": {
    "name": "ipython",
    "version": 3
   },
   "file_extension": ".py",
   "mimetype": "text/x-python",
   "name": "python",
   "nbconvert_exporter": "python",
   "pygments_lexer": "ipython3",
   "version": "3.7.10"
  }
 },
 "nbformat": 4,
 "nbformat_minor": 5
}
